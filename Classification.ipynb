{
 "cells": [
  {
   "cell_type": "markdown",
   "metadata": {},
   "source": [
    "# PART B : Regression"
   ]
  },
  {
   "cell_type": "code",
   "execution_count": 14,
   "metadata": {},
   "outputs": [
    {
     "name": "stdout",
     "output_type": "stream",
     "text": [
      "       Unnamed: 0  carat        cut color clarity  depth  table  price     x  \\\n",
      "0               1   0.23      Ideal     E     SI2   61.5   55.0    326  3.95   \n",
      "1               2   0.21    Premium     E     SI1   59.8   61.0    326  3.89   \n",
      "2               3   0.23       Good     E     VS1   56.9   65.0    327  4.05   \n",
      "3               4   0.29    Premium     I     VS2   62.4   58.0    334  4.20   \n",
      "4               5   0.31       Good     J     SI2   63.3   58.0    335  4.34   \n",
      "...           ...    ...        ...   ...     ...    ...    ...    ...   ...   \n",
      "53935       53936   0.72      Ideal     D     SI1   60.8   57.0   2757  5.75   \n",
      "53936       53937   0.72       Good     D     SI1   63.1   55.0   2757  5.69   \n",
      "53937       53938   0.70  Very Good     D     SI1   62.8   60.0   2757  5.66   \n",
      "53938       53939   0.86    Premium     H     SI2   61.0   58.0   2757  6.15   \n",
      "53939       53940   0.75      Ideal     D     SI2   62.2   55.0   2757  5.83   \n",
      "\n",
      "          y     z  \n",
      "0      3.98  2.43  \n",
      "1      3.84  2.31  \n",
      "2      4.07  2.31  \n",
      "3      4.23  2.63  \n",
      "4      4.35  2.75  \n",
      "...     ...   ...  \n",
      "53935  5.76  3.50  \n",
      "53936  5.75  3.61  \n",
      "53937  5.68  3.56  \n",
      "53938  6.12  3.74  \n",
      "53939  5.87  3.64  \n",
      "\n",
      "[53940 rows x 11 columns]\n"
     ]
    }
   ],
   "source": [
    "import pandas as pd\n",
    "df = pd.read_csv('diamonds.csv')\n",
    "print(df) "
   ]
  },
  {
   "cell_type": "code",
   "execution_count": 15,
   "metadata": {},
   "outputs": [
    {
     "data": {
      "text/html": [
       "<div>\n",
       "<style scoped>\n",
       "    .dataframe tbody tr th:only-of-type {\n",
       "        vertical-align: middle;\n",
       "    }\n",
       "\n",
       "    .dataframe tbody tr th {\n",
       "        vertical-align: top;\n",
       "    }\n",
       "\n",
       "    .dataframe thead th {\n",
       "        text-align: right;\n",
       "    }\n",
       "</style>\n",
       "<table border=\"1\" class=\"dataframe\">\n",
       "  <thead>\n",
       "    <tr style=\"text-align: right;\">\n",
       "      <th></th>\n",
       "      <th>Unnamed: 0</th>\n",
       "      <th>carat</th>\n",
       "      <th>cut</th>\n",
       "      <th>color</th>\n",
       "      <th>clarity</th>\n",
       "      <th>depth</th>\n",
       "      <th>table</th>\n",
       "      <th>price</th>\n",
       "      <th>x</th>\n",
       "      <th>y</th>\n",
       "      <th>z</th>\n",
       "    </tr>\n",
       "  </thead>\n",
       "  <tbody>\n",
       "    <tr>\n",
       "      <th>0</th>\n",
       "      <td>1</td>\n",
       "      <td>0.23</td>\n",
       "      <td>Ideal</td>\n",
       "      <td>E</td>\n",
       "      <td>SI2</td>\n",
       "      <td>61.5</td>\n",
       "      <td>55.0</td>\n",
       "      <td>326</td>\n",
       "      <td>3.95</td>\n",
       "      <td>3.98</td>\n",
       "      <td>2.43</td>\n",
       "    </tr>\n",
       "    <tr>\n",
       "      <th>1</th>\n",
       "      <td>2</td>\n",
       "      <td>0.21</td>\n",
       "      <td>Premium</td>\n",
       "      <td>E</td>\n",
       "      <td>SI1</td>\n",
       "      <td>59.8</td>\n",
       "      <td>61.0</td>\n",
       "      <td>326</td>\n",
       "      <td>3.89</td>\n",
       "      <td>3.84</td>\n",
       "      <td>2.31</td>\n",
       "    </tr>\n",
       "    <tr>\n",
       "      <th>2</th>\n",
       "      <td>3</td>\n",
       "      <td>0.23</td>\n",
       "      <td>Good</td>\n",
       "      <td>E</td>\n",
       "      <td>VS1</td>\n",
       "      <td>56.9</td>\n",
       "      <td>65.0</td>\n",
       "      <td>327</td>\n",
       "      <td>4.05</td>\n",
       "      <td>4.07</td>\n",
       "      <td>2.31</td>\n",
       "    </tr>\n",
       "    <tr>\n",
       "      <th>3</th>\n",
       "      <td>4</td>\n",
       "      <td>0.29</td>\n",
       "      <td>Premium</td>\n",
       "      <td>I</td>\n",
       "      <td>VS2</td>\n",
       "      <td>62.4</td>\n",
       "      <td>58.0</td>\n",
       "      <td>334</td>\n",
       "      <td>4.20</td>\n",
       "      <td>4.23</td>\n",
       "      <td>2.63</td>\n",
       "    </tr>\n",
       "    <tr>\n",
       "      <th>4</th>\n",
       "      <td>5</td>\n",
       "      <td>0.31</td>\n",
       "      <td>Good</td>\n",
       "      <td>J</td>\n",
       "      <td>SI2</td>\n",
       "      <td>63.3</td>\n",
       "      <td>58.0</td>\n",
       "      <td>335</td>\n",
       "      <td>4.34</td>\n",
       "      <td>4.35</td>\n",
       "      <td>2.75</td>\n",
       "    </tr>\n",
       "  </tbody>\n",
       "</table>\n",
       "</div>"
      ],
      "text/plain": [
       "   Unnamed: 0  carat      cut color clarity  depth  table  price     x     y  \\\n",
       "0           1   0.23    Ideal     E     SI2   61.5   55.0    326  3.95  3.98   \n",
       "1           2   0.21  Premium     E     SI1   59.8   61.0    326  3.89  3.84   \n",
       "2           3   0.23     Good     E     VS1   56.9   65.0    327  4.05  4.07   \n",
       "3           4   0.29  Premium     I     VS2   62.4   58.0    334  4.20  4.23   \n",
       "4           5   0.31     Good     J     SI2   63.3   58.0    335  4.34  4.35   \n",
       "\n",
       "      z  \n",
       "0  2.43  \n",
       "1  2.31  \n",
       "2  2.31  \n",
       "3  2.63  \n",
       "4  2.75  "
      ]
     },
     "execution_count": 15,
     "metadata": {},
     "output_type": "execute_result"
    }
   ],
   "source": [
    "df.head()"
   ]
  },
  {
   "cell_type": "code",
   "execution_count": 16,
   "metadata": {},
   "outputs": [
    {
     "data": {
      "text/plain": [
       "Unnamed: 0    0\n",
       "carat         0\n",
       "cut           0\n",
       "color         0\n",
       "clarity       0\n",
       "depth         0\n",
       "table         0\n",
       "price         0\n",
       "x             0\n",
       "y             0\n",
       "z             0\n",
       "dtype: int64"
      ]
     },
     "execution_count": 16,
     "metadata": {},
     "output_type": "execute_result"
    }
   ],
   "source": [
    "df.isnull().sum()"
   ]
  },
  {
   "cell_type": "markdown",
   "metadata": {},
   "source": [
    "The describe() method returns description of the data in the DataFrame.\n",
    "\n",
    "If the DataFrame contains numerical data, the description contains these information for each column:\n",
    "\n",
    "count - The number of not-empty values.\n",
    "mean - The average (mean) value.\n",
    "std - The standard deviation.\n",
    "min - the minimum value.\n",
    "25% - The 25% percentile*.\n",
    "50% - The 50% percentile*.\n",
    "75% - The 75% percentile*.\n",
    "max - the maximum value."
   ]
  },
  {
   "cell_type": "code",
   "execution_count": 17,
   "metadata": {},
   "outputs": [
    {
     "data": {
      "text/html": [
       "<div>\n",
       "<style scoped>\n",
       "    .dataframe tbody tr th:only-of-type {\n",
       "        vertical-align: middle;\n",
       "    }\n",
       "\n",
       "    .dataframe tbody tr th {\n",
       "        vertical-align: top;\n",
       "    }\n",
       "\n",
       "    .dataframe thead th {\n",
       "        text-align: right;\n",
       "    }\n",
       "</style>\n",
       "<table border=\"1\" class=\"dataframe\">\n",
       "  <thead>\n",
       "    <tr style=\"text-align: right;\">\n",
       "      <th></th>\n",
       "      <th>Unnamed: 0</th>\n",
       "      <th>carat</th>\n",
       "      <th>depth</th>\n",
       "      <th>table</th>\n",
       "      <th>price</th>\n",
       "      <th>x</th>\n",
       "      <th>y</th>\n",
       "      <th>z</th>\n",
       "    </tr>\n",
       "  </thead>\n",
       "  <tbody>\n",
       "    <tr>\n",
       "      <th>count</th>\n",
       "      <td>53940.000000</td>\n",
       "      <td>53940.000000</td>\n",
       "      <td>53940.000000</td>\n",
       "      <td>53940.000000</td>\n",
       "      <td>53940.000000</td>\n",
       "      <td>53940.000000</td>\n",
       "      <td>53940.000000</td>\n",
       "      <td>53940.000000</td>\n",
       "    </tr>\n",
       "    <tr>\n",
       "      <th>mean</th>\n",
       "      <td>26970.500000</td>\n",
       "      <td>0.797940</td>\n",
       "      <td>61.749405</td>\n",
       "      <td>57.457184</td>\n",
       "      <td>3932.799722</td>\n",
       "      <td>5.731157</td>\n",
       "      <td>5.734526</td>\n",
       "      <td>3.538734</td>\n",
       "    </tr>\n",
       "    <tr>\n",
       "      <th>std</th>\n",
       "      <td>15571.281097</td>\n",
       "      <td>0.474011</td>\n",
       "      <td>1.432621</td>\n",
       "      <td>2.234491</td>\n",
       "      <td>3989.439738</td>\n",
       "      <td>1.121761</td>\n",
       "      <td>1.142135</td>\n",
       "      <td>0.705699</td>\n",
       "    </tr>\n",
       "    <tr>\n",
       "      <th>min</th>\n",
       "      <td>1.000000</td>\n",
       "      <td>0.200000</td>\n",
       "      <td>43.000000</td>\n",
       "      <td>43.000000</td>\n",
       "      <td>326.000000</td>\n",
       "      <td>0.000000</td>\n",
       "      <td>0.000000</td>\n",
       "      <td>0.000000</td>\n",
       "    </tr>\n",
       "    <tr>\n",
       "      <th>25%</th>\n",
       "      <td>13485.750000</td>\n",
       "      <td>0.400000</td>\n",
       "      <td>61.000000</td>\n",
       "      <td>56.000000</td>\n",
       "      <td>950.000000</td>\n",
       "      <td>4.710000</td>\n",
       "      <td>4.720000</td>\n",
       "      <td>2.910000</td>\n",
       "    </tr>\n",
       "    <tr>\n",
       "      <th>50%</th>\n",
       "      <td>26970.500000</td>\n",
       "      <td>0.700000</td>\n",
       "      <td>61.800000</td>\n",
       "      <td>57.000000</td>\n",
       "      <td>2401.000000</td>\n",
       "      <td>5.700000</td>\n",
       "      <td>5.710000</td>\n",
       "      <td>3.530000</td>\n",
       "    </tr>\n",
       "    <tr>\n",
       "      <th>75%</th>\n",
       "      <td>40455.250000</td>\n",
       "      <td>1.040000</td>\n",
       "      <td>62.500000</td>\n",
       "      <td>59.000000</td>\n",
       "      <td>5324.250000</td>\n",
       "      <td>6.540000</td>\n",
       "      <td>6.540000</td>\n",
       "      <td>4.040000</td>\n",
       "    </tr>\n",
       "    <tr>\n",
       "      <th>max</th>\n",
       "      <td>53940.000000</td>\n",
       "      <td>5.010000</td>\n",
       "      <td>79.000000</td>\n",
       "      <td>95.000000</td>\n",
       "      <td>18823.000000</td>\n",
       "      <td>10.740000</td>\n",
       "      <td>58.900000</td>\n",
       "      <td>31.800000</td>\n",
       "    </tr>\n",
       "  </tbody>\n",
       "</table>\n",
       "</div>"
      ],
      "text/plain": [
       "         Unnamed: 0         carat         depth         table         price  \\\n",
       "count  53940.000000  53940.000000  53940.000000  53940.000000  53940.000000   \n",
       "mean   26970.500000      0.797940     61.749405     57.457184   3932.799722   \n",
       "std    15571.281097      0.474011      1.432621      2.234491   3989.439738   \n",
       "min        1.000000      0.200000     43.000000     43.000000    326.000000   \n",
       "25%    13485.750000      0.400000     61.000000     56.000000    950.000000   \n",
       "50%    26970.500000      0.700000     61.800000     57.000000   2401.000000   \n",
       "75%    40455.250000      1.040000     62.500000     59.000000   5324.250000   \n",
       "max    53940.000000      5.010000     79.000000     95.000000  18823.000000   \n",
       "\n",
       "                  x             y             z  \n",
       "count  53940.000000  53940.000000  53940.000000  \n",
       "mean       5.731157      5.734526      3.538734  \n",
       "std        1.121761      1.142135      0.705699  \n",
       "min        0.000000      0.000000      0.000000  \n",
       "25%        4.710000      4.720000      2.910000  \n",
       "50%        5.700000      5.710000      3.530000  \n",
       "75%        6.540000      6.540000      4.040000  \n",
       "max       10.740000     58.900000     31.800000  "
      ]
     },
     "execution_count": 17,
     "metadata": {},
     "output_type": "execute_result"
    }
   ],
   "source": [
    "df.describe()"
   ]
  },
  {
   "cell_type": "code",
   "execution_count": 18,
   "metadata": {},
   "outputs": [
    {
     "name": "stdout",
     "output_type": "stream",
     "text": [
      "<class 'pandas.core.frame.DataFrame'>\n",
      "RangeIndex: 53940 entries, 0 to 53939\n",
      "Data columns (total 11 columns):\n",
      " #   Column      Non-Null Count  Dtype  \n",
      "---  ------      --------------  -----  \n",
      " 0   Unnamed: 0  53940 non-null  int64  \n",
      " 1   carat       53940 non-null  float64\n",
      " 2   cut         53940 non-null  object \n",
      " 3   color       53940 non-null  object \n",
      " 4   clarity     53940 non-null  object \n",
      " 5   depth       53940 non-null  float64\n",
      " 6   table       53940 non-null  float64\n",
      " 7   price       53940 non-null  int64  \n",
      " 8   x           53940 non-null  float64\n",
      " 9   y           53940 non-null  float64\n",
      " 10  z           53940 non-null  float64\n",
      "dtypes: float64(6), int64(2), object(3)\n",
      "memory usage: 4.5+ MB\n"
     ]
    }
   ],
   "source": [
    "df.info()"
   ]
  },
  {
   "cell_type": "markdown",
   "metadata": {},
   "source": [
    "Output of df.describe() has some attributes (cut,color,clarity) missing. This is because those attributes are of object data type (We can see that from df.info()). describe() method only returns if the attribute contains numerical data."
   ]
  },
  {
   "cell_type": "code",
   "execution_count": 19,
   "metadata": {},
   "outputs": [
    {
     "data": {
      "text/plain": [
       "<seaborn.axisgrid.PairGrid at 0x2cfff477e80>"
      ]
     },
     "execution_count": 19,
     "metadata": {},
     "output_type": "execute_result"
    },
    {
     "data": {
      "image/png": "[encoded data removed]",
      "text/plain": [
       "<Figure size 540x540 with 12 Axes>"
      ]
     },
     "metadata": {
      "needs_background": "light"
     },
     "output_type": "display_data"
    }
   ],
   "source": [
    "# pair-plot between the following attributes/columns: carat, price, x\n",
    "import seaborn as sns\n",
    "df_new = df[['carat', 'price', 'x']]\n",
    "# Create the default pairplot\n",
    "sns.pairplot(df_new)"
   ]
  },
  {
   "cell_type": "code",
   "execution_count": 20,
   "metadata": {},
   "outputs": [],
   "source": [
    "#sns.pairplot(df)"
   ]
  },
  {
   "cell_type": "markdown",
   "metadata": {},
   "source": [
    "Your best option to use regression to find outliers is to use robust regression.\n",
    "\n",
    "Ordinary regression can be impacted by outliers in two ways:\n",
    "First, an extreme outlier in the y-direction at x-values near x¯ can affect the fit in that area in the same way an outlier can affect a mean.\n",
    "But incase of robust regression the outlier has a very large residual which makes easier to remove them."
   ]
  },
  {
   "cell_type": "code",
   "execution_count": 21,
   "metadata": {},
   "outputs": [],
   "source": [
    "from matplotlib import pyplot as plt\n",
    "from sklearn.linear_model import (\n",
    "    LinearRegression,\n",
    "    HuberRegressor,\n",
    ")\n",
    "from sklearn.preprocessing import StandardScaler\n",
    "model=HuberRegressor()\n",
    "nor = StandardScaler()"
   ]
  },
  {
   "cell_type": "code",
   "execution_count": 22,
   "metadata": {},
   "outputs": [],
   "source": [
    "dff=df[['y', 'price', 'z']]"
   ]
  },
  {
   "cell_type": "code",
   "execution_count": 23,
   "metadata": {},
   "outputs": [],
   "source": [
    "x=list(df['z'])\n",
    "y=list(df['price'])"
   ]
  },
  {
   "cell_type": "code",
   "execution_count": 24,
   "metadata": {},
   "outputs": [
    {
     "data": {
      "text/plain": [
       "Index(['y', 'price', 'z'], dtype='object')"
      ]
     },
     "execution_count": 24,
     "metadata": {},
     "output_type": "execute_result"
    }
   ],
   "source": [
    "dff.columns"
   ]
  },
  {
   "cell_type": "code",
   "execution_count": 25,
   "metadata": {},
   "outputs": [],
   "source": [
    "a = np.array(x).reshape(-1,1)\n",
    "x = nor.fit_transform(a)\n",
    "b = np.array(y).reshape(1,-1)\n",
    "y = nor.fit_transform(b)[0]"
   ]
  },
  {
   "cell_type": "code",
   "execution_count": 26,
   "metadata": {},
   "outputs": [
    {
     "data": {
      "text/html": [
       "<style>#sk-container-id-1 {color: black;background-color: white;}#sk-container-id-1 pre{padding: 0;}#sk-container-id-1 div.sk-toggleable {background-color: white;}#sk-container-id-1 label.sk-toggleable__label {cursor: pointer;display: block;width: 100%;margin-bottom: 0;padding: 0.3em;box-sizing: border-box;text-align: center;}#sk-container-id-1 label.sk-toggleable__label-arrow:before {content: \"▸\";float: left;margin-right: 0.25em;color: #696969;}#sk-container-id-1 label.sk-toggleable__label-arrow:hover:before {color: black;}#sk-container-id-1 div.sk-estimator:hover label.sk-toggleable__label-arrow:before {color: black;}#sk-container-id-1 div.sk-toggleable__content {max-height: 0;max-width: 0;overflow: hidden;text-align: left;background-color: #f0f8ff;}#sk-container-id-1 div.sk-toggleable__content pre {margin: 0.2em;color: black;border-radius: 0.25em;background-color: #f0f8ff;}#sk-container-id-1 input.sk-toggleable__control:checked~div.sk-toggleable__content {max-height: 200px;max-width: 100%;overflow: auto;}#sk-container-id-1 input.sk-toggleable__control:checked~label.sk-toggleable__label-arrow:before {content: \"▾\";}#sk-container-id-1 div.sk-estimator input.sk-toggleable__control:checked~label.sk-toggleable__label {background-color: #d4ebff;}#sk-container-id-1 div.sk-label input.sk-toggleable__control:checked~label.sk-toggleable__label {background-color: #d4ebff;}#sk-container-id-1 input.sk-hidden--visually {border: 0;clip: rect(1px 1px 1px 1px);clip: rect(1px, 1px, 1px, 1px);height: 1px;margin: -1px;overflow: hidden;padding: 0;position: absolute;width: 1px;}#sk-container-id-1 div.sk-estimator {font-family: monospace;background-color: #f0f8ff;border: 1px dotted black;border-radius: 0.25em;box-sizing: border-box;margin-bottom: 0.5em;}#sk-container-id-1 div.sk-estimator:hover {background-color: #d4ebff;}#sk-container-id-1 div.sk-parallel-item::after {content: \"\";width: 100%;border-bottom: 1px solid gray;flex-grow: 1;}#sk-container-id-1 div.sk-label:hover label.sk-toggleable__label {background-color: #d4ebff;}#sk-container-id-1 div.sk-serial::before {content: \"\";position: absolute;border-left: 1px solid gray;box-sizing: border-box;top: 0;bottom: 0;left: 50%;z-index: 0;}#sk-container-id-1 div.sk-serial {display: flex;flex-direction: column;align-items: center;background-color: white;padding-right: 0.2em;padding-left: 0.2em;position: relative;}#sk-container-id-1 div.sk-item {position: relative;z-index: 1;}#sk-container-id-1 div.sk-parallel {display: flex;align-items: stretch;justify-content: center;background-color: white;position: relative;}#sk-container-id-1 div.sk-item::before, #sk-container-id-1 div.sk-parallel-item::before {content: \"\";position: absolute;border-left: 1px solid gray;box-sizing: border-box;top: 0;bottom: 0;left: 50%;z-index: -1;}#sk-container-id-1 div.sk-parallel-item {display: flex;flex-direction: column;z-index: 1;position: relative;background-color: white;}#sk-container-id-1 div.sk-parallel-item:first-child::after {align-self: flex-end;width: 50%;}#sk-container-id-1 div.sk-parallel-item:last-child::after {align-self: flex-start;width: 50%;}#sk-container-id-1 div.sk-parallel-item:only-child::after {width: 0;}#sk-container-id-1 div.sk-dashed-wrapped {border: 1px dashed gray;margin: 0 0.4em 0.5em 0.4em;box-sizing: border-box;padding-bottom: 0.4em;background-color: white;}#sk-container-id-1 div.sk-label label {font-family: monospace;font-weight: bold;display: inline-block;line-height: 1.2em;}#sk-container-id-1 div.sk-label-container {text-align: center;}#sk-container-id-1 div.sk-container {/* jupyter's `normalize.less` sets `[hidden] { display: none; }` but bootstrap.min.css set `[hidden] { display: none !important; }` so we also need the `!important` here to be able to override the default hidden behavior on the sphinx rendered scikit-learn.org. See: https://github.com/scikit-learn/scikit-learn/issues/21755 */display: inline-block !important;position: relative;}#sk-container-id-1 div.sk-text-repr-fallback {display: none;}</style><div id=\"sk-container-id-1\" class=\"sk-top-container\"><div class=\"sk-text-repr-fallback\"><pre>HuberRegressor()</pre><b>In a Jupyter environment, please rerun this cell to show the HTML representation or trust the notebook. <br />On GitHub, the HTML representation is unable to render, please try loading this page with nbviewer.org.</b></div><div class=\"sk-container\" hidden><div class=\"sk-item\"><div class=\"sk-estimator sk-toggleable\"><input class=\"sk-toggleable__control sk-hidden--visually\" id=\"sk-estimator-id-1\" type=\"checkbox\" checked><label for=\"sk-estimator-id-1\" class=\"sk-toggleable__label sk-toggleable__label-arrow\">HuberRegressor</label><div class=\"sk-toggleable__content\"><pre>HuberRegressor()</pre></div></div></div></div></div>"
      ],
      "text/plain": [
       "HuberRegressor()"
      ]
     },
     "execution_count": 26,
     "metadata": {},
     "output_type": "execute_result"
    }
   ],
   "source": [
    "model.fit(x,y)"
   ]
  },
  {
   "cell_type": "code",
   "execution_count": 27,
   "metadata": {},
   "outputs": [
    {
     "data": {
      "image/png": "[encoded data removed]",
      "text/plain": [
       "<Figure size 432x288 with 1 Axes>"
      ]
     },
     "metadata": {
      "needs_background": "light"
     },
     "output_type": "display_data"
    }
   ],
   "source": [
    "def plot_best_fit(x, y, model):\n",
    "    # fut the model on all data\n",
    "    model.fit(x, y)\n",
    "    # plot the dataset\n",
    "    plt.scatter(x, y)\n",
    "    # show the plot\n",
    "    plt.title(type(model).__name__)\n",
    "    plt.show()\n",
    "plot_best_fit(x, y, model)"
   ]
  },
  {
   "cell_type": "code",
   "execution_count": 28,
   "metadata": {},
   "outputs": [
    {
     "data": {
      "text/plain": [
       "Text(0.5, 1.0, \"Regression Line on Price vs 'y'\")"
      ]
     },
     "execution_count": 28,
     "metadata": {},
     "output_type": "execute_result"
    },
    {
     "data": {
      "image/png": "[encoded data removed]",
      "text/plain": [
       "<Figure size 432x288 with 1 Axes>"
      ]
     },
     "metadata": {
      "needs_background": "light"
     },
     "output_type": "display_data"
    }
   ],
   "source": [
    "ax = sns.regplot(x=\"price\", y=\"y\", data=df, fit_reg=True,line_kws={\"color\": \"#835656\"})\n",
    "ax.set_title(\"Regression Line on Price vs 'y'\")"
   ]
  },
  {
   "cell_type": "code",
   "execution_count": 29,
   "metadata": {},
   "outputs": [
    {
     "data": {
      "text/plain": [
       "Text(0.5, 1.0, \"Regression Line on Price vs 'y'\")"
      ]
     },
     "execution_count": 29,
     "metadata": {},
     "output_type": "execute_result"
    },
    {
     "data": {
      "image/png": "[encoded data removed]",
      "text/plain": [
       "<Figure size 432x288 with 1 Axes>"
      ]
     },
     "metadata": {
      "needs_background": "light"
     },
     "output_type": "display_data"
    }
   ],
   "source": [
    "ax = sns.regplot(x=\"price\", y=\"z\", data=df, fit_reg=True,line_kws={\"color\": \"#835656\"})\n",
    "ax.set_title(\"Regression Line on Price vs 'y'\")"
   ]
  },
  {
   "cell_type": "markdown",
   "metadata": {},
   "source": [
    "\"y\" and \"z\" have some dimensional outlies in our dataset that needs to be eliminated. We can also use Inter quantile range method to remove outliers.That would be a valid range to detect the outliers."
   ]
  },
  {
   "cell_type": "code",
   "execution_count": 30,
   "metadata": {},
   "outputs": [
    {
     "data": {
      "text/plain": [
       "(53914, 11)"
      ]
     },
     "execution_count": 30,
     "metadata": {},
     "output_type": "execute_result"
    }
   ],
   "source": [
    "#We can clearly spot outliers in these attributes\n",
    "df = df[(df[\"x\"]<30)&(df[\"x\"]>0)]\n",
    "df = df[(df[\"y\"]<30)&(df[\"y\"]>0)]\n",
    "df = df[(df[\"z\"]<30)&(df[\"z\"]>2)]\n",
    "df.shape"
   ]
  },
  {
   "cell_type": "code",
   "execution_count": 31,
   "metadata": {},
   "outputs": [
    {
     "data": {
      "text/plain": [
       "Text(0.5, 1.0, \"Regression Line on Price vs 'y'\")"
      ]
     },
     "execution_count": 31,
     "metadata": {},
     "output_type": "execute_result"
    },
    {
     "data": {
      "image/png": "[encoded data removed]",
      "text/plain": [
       "<Figure size 432x288 with 1 Axes>"
      ]
     },
     "metadata": {
      "needs_background": "light"
     },
     "output_type": "display_data"
    }
   ],
   "source": [
    "ax = sns.regplot(x=\"price\", y=\"y\", data=df, fit_reg=True,line_kws={\"color\": \"#835656\"})\n",
    "ax.set_title(\"Regression Line on Price vs 'y'\")"
   ]
  },
  {
   "cell_type": "code",
   "execution_count": 32,
   "metadata": {},
   "outputs": [
    {
     "name": "stdout",
     "output_type": "stream",
     "text": [
      "Categorical variables:\n",
      "['cut', 'color', 'clarity']\n"
     ]
    }
   ],
   "source": [
    "# Get list of categorical variables\n",
    "s = (df.dtypes ==\"object\")\n",
    "object_cols = list(s[s].index)\n",
    "print(\"Categorical variables:\")\n",
    "print(object_cols)"
   ]
  },
  {
   "cell_type": "code",
   "execution_count": 33,
   "metadata": {},
   "outputs": [
    {
     "data": {
      "image/png": "[encoded data removed]",
      "text/plain": [
       "<Figure size 360x360 with 1 Axes>"
      ]
     },
     "metadata": {
      "needs_background": "light"
     },
     "output_type": "display_data"
    }
   ],
   "source": [
    "g = sns.catplot(x=\"cut\",\n",
    "                y=\"price\",\n",
    "                data=df, \n",
    "                )"
   ]
  },
  {
   "cell_type": "code",
   "execution_count": 34,
   "metadata": {},
   "outputs": [
    {
     "data": {
      "image/png": "[encoded data removed]",
      "text/plain": [
       "<Figure size 360x360 with 1 Axes>"
      ]
     },
     "metadata": {
      "needs_background": "light"
     },
     "output_type": "display_data"
    }
   ],
   "source": [
    "g = sns.catplot(x=\"color\",\n",
    "                y=\"price\",\n",
    "                data=df, \n",
    "                )"
   ]
  },
  {
   "cell_type": "code",
   "execution_count": 35,
   "metadata": {},
   "outputs": [
    {
     "data": {
      "image/png": "[encoded data removed]",
      "text/plain": [
       "<Figure size 360x360 with 1 Axes>"
      ]
     },
     "metadata": {
      "needs_background": "light"
     },
     "output_type": "display_data"
    }
   ],
   "source": [
    "g = sns.catplot(x=\"clarity\",\n",
    "                y=\"price\",\n",
    "                data=df, \n",
    "                )"
   ]
  },
  {
   "cell_type": "markdown",
   "metadata": {},
   "source": [
    "We have three categorical variables.encoding the data to get rid of object dtype for cut , color and clarity.\n",
    "\n",
    "1. Label Encoding : Label encoding converts the data in machine-readable form, but it assigns a unique number(starting from 0) to each class of data.\n",
    "This may lead to the generation of priority issues in the training of data sets. \n",
    "A label with a high value may be considered to have high priority than a label having a lower value.\n",
    "Label encoder is used when:\n",
    "The number of categories is quite large as one-hot encoding can lead to high memory consumption. When the order does not matter in categorical feature."
   ]
  },
  {
   "cell_type": "code",
   "execution_count": 36,
   "metadata": {},
   "outputs": [
    {
     "data": {
      "text/html": [
       "<div>\n",
       "<style scoped>\n",
       "    .dataframe tbody tr th:only-of-type {\n",
       "        vertical-align: middle;\n",
       "    }\n",
       "\n",
       "    .dataframe tbody tr th {\n",
       "        vertical-align: top;\n",
       "    }\n",
       "\n",
       "    .dataframe thead th {\n",
       "        text-align: right;\n",
       "    }\n",
       "</style>\n",
       "<table border=\"1\" class=\"dataframe\">\n",
       "  <thead>\n",
       "    <tr style=\"text-align: right;\">\n",
       "      <th></th>\n",
       "      <th>Unnamed: 0</th>\n",
       "      <th>carat</th>\n",
       "      <th>cut</th>\n",
       "      <th>color</th>\n",
       "      <th>clarity</th>\n",
       "      <th>depth</th>\n",
       "      <th>table</th>\n",
       "      <th>price</th>\n",
       "      <th>x</th>\n",
       "      <th>y</th>\n",
       "      <th>z</th>\n",
       "    </tr>\n",
       "  </thead>\n",
       "  <tbody>\n",
       "    <tr>\n",
       "      <th>0</th>\n",
       "      <td>1</td>\n",
       "      <td>0.23</td>\n",
       "      <td>2</td>\n",
       "      <td>1</td>\n",
       "      <td>3</td>\n",
       "      <td>61.5</td>\n",
       "      <td>55.0</td>\n",
       "      <td>326</td>\n",
       "      <td>3.95</td>\n",
       "      <td>3.98</td>\n",
       "      <td>2.43</td>\n",
       "    </tr>\n",
       "    <tr>\n",
       "      <th>1</th>\n",
       "      <td>2</td>\n",
       "      <td>0.21</td>\n",
       "      <td>3</td>\n",
       "      <td>1</td>\n",
       "      <td>2</td>\n",
       "      <td>59.8</td>\n",
       "      <td>61.0</td>\n",
       "      <td>326</td>\n",
       "      <td>3.89</td>\n",
       "      <td>3.84</td>\n",
       "      <td>2.31</td>\n",
       "    </tr>\n",
       "    <tr>\n",
       "      <th>2</th>\n",
       "      <td>3</td>\n",
       "      <td>0.23</td>\n",
       "      <td>1</td>\n",
       "      <td>1</td>\n",
       "      <td>4</td>\n",
       "      <td>56.9</td>\n",
       "      <td>65.0</td>\n",
       "      <td>327</td>\n",
       "      <td>4.05</td>\n",
       "      <td>4.07</td>\n",
       "      <td>2.31</td>\n",
       "    </tr>\n",
       "    <tr>\n",
       "      <th>3</th>\n",
       "      <td>4</td>\n",
       "      <td>0.29</td>\n",
       "      <td>3</td>\n",
       "      <td>5</td>\n",
       "      <td>5</td>\n",
       "      <td>62.4</td>\n",
       "      <td>58.0</td>\n",
       "      <td>334</td>\n",
       "      <td>4.20</td>\n",
       "      <td>4.23</td>\n",
       "      <td>2.63</td>\n",
       "    </tr>\n",
       "    <tr>\n",
       "      <th>4</th>\n",
       "      <td>5</td>\n",
       "      <td>0.31</td>\n",
       "      <td>1</td>\n",
       "      <td>6</td>\n",
       "      <td>3</td>\n",
       "      <td>63.3</td>\n",
       "      <td>58.0</td>\n",
       "      <td>335</td>\n",
       "      <td>4.34</td>\n",
       "      <td>4.35</td>\n",
       "      <td>2.75</td>\n",
       "    </tr>\n",
       "  </tbody>\n",
       "</table>\n",
       "</div>"
      ],
      "text/plain": [
       "   Unnamed: 0  carat  cut  color  clarity  depth  table  price     x     y  \\\n",
       "0           1   0.23    2      1        3   61.5   55.0    326  3.95  3.98   \n",
       "1           2   0.21    3      1        2   59.8   61.0    326  3.89  3.84   \n",
       "2           3   0.23    1      1        4   56.9   65.0    327  4.05  4.07   \n",
       "3           4   0.29    3      5        5   62.4   58.0    334  4.20  4.23   \n",
       "4           5   0.31    1      6        3   63.3   58.0    335  4.34  4.35   \n",
       "\n",
       "      z  \n",
       "0  2.43  \n",
       "1  2.31  \n",
       "2  2.31  \n",
       "3  2.63  \n",
       "4  2.75  "
      ]
     },
     "execution_count": 36,
     "metadata": {},
     "output_type": "execute_result"
    }
   ],
   "source": [
    "# Make copy to avoid changing original data \n",
    "label_data1 = df.copy()\n",
    "from sklearn import preprocessing\n",
    "# Apply label encoder to each column with categorical data\n",
    "label_encoder = preprocessing.LabelEncoder()\n",
    "for col in object_cols:\n",
    "    label_data1[col] = label_encoder.fit_transform(label_data1[col])\n",
    "label_data1.head()"
   ]
  },
  {
   "cell_type": "markdown",
   "metadata": {},
   "source": [
    "2. Ordinal encoding:In ordinal encoding, each unique category value is assigned an integer value."
   ]
  },
  {
   "cell_type": "code",
   "execution_count": 37,
   "metadata": {},
   "outputs": [
    {
     "data": {
      "text/html": [
       "<div>\n",
       "<style scoped>\n",
       "    .dataframe tbody tr th:only-of-type {\n",
       "        vertical-align: middle;\n",
       "    }\n",
       "\n",
       "    .dataframe tbody tr th {\n",
       "        vertical-align: top;\n",
       "    }\n",
       "\n",
       "    .dataframe thead th {\n",
       "        text-align: right;\n",
       "    }\n",
       "</style>\n",
       "<table border=\"1\" class=\"dataframe\">\n",
       "  <thead>\n",
       "    <tr style=\"text-align: right;\">\n",
       "      <th></th>\n",
       "      <th>Unnamed: 0</th>\n",
       "      <th>carat</th>\n",
       "      <th>cut</th>\n",
       "      <th>color</th>\n",
       "      <th>clarity</th>\n",
       "      <th>depth</th>\n",
       "      <th>table</th>\n",
       "      <th>price</th>\n",
       "      <th>x</th>\n",
       "      <th>y</th>\n",
       "      <th>z</th>\n",
       "    </tr>\n",
       "  </thead>\n",
       "  <tbody>\n",
       "    <tr>\n",
       "      <th>0</th>\n",
       "      <td>1</td>\n",
       "      <td>0.23</td>\n",
       "      <td>2</td>\n",
       "      <td>1</td>\n",
       "      <td>3</td>\n",
       "      <td>61.5</td>\n",
       "      <td>55.0</td>\n",
       "      <td>326</td>\n",
       "      <td>3.95</td>\n",
       "      <td>3.98</td>\n",
       "      <td>2.43</td>\n",
       "    </tr>\n",
       "    <tr>\n",
       "      <th>1</th>\n",
       "      <td>2</td>\n",
       "      <td>0.21</td>\n",
       "      <td>3</td>\n",
       "      <td>1</td>\n",
       "      <td>2</td>\n",
       "      <td>59.8</td>\n",
       "      <td>61.0</td>\n",
       "      <td>326</td>\n",
       "      <td>3.89</td>\n",
       "      <td>3.84</td>\n",
       "      <td>2.31</td>\n",
       "    </tr>\n",
       "    <tr>\n",
       "      <th>2</th>\n",
       "      <td>3</td>\n",
       "      <td>0.23</td>\n",
       "      <td>1</td>\n",
       "      <td>1</td>\n",
       "      <td>4</td>\n",
       "      <td>56.9</td>\n",
       "      <td>65.0</td>\n",
       "      <td>327</td>\n",
       "      <td>4.05</td>\n",
       "      <td>4.07</td>\n",
       "      <td>2.31</td>\n",
       "    </tr>\n",
       "    <tr>\n",
       "      <th>3</th>\n",
       "      <td>4</td>\n",
       "      <td>0.29</td>\n",
       "      <td>3</td>\n",
       "      <td>5</td>\n",
       "      <td>5</td>\n",
       "      <td>62.4</td>\n",
       "      <td>58.0</td>\n",
       "      <td>334</td>\n",
       "      <td>4.20</td>\n",
       "      <td>4.23</td>\n",
       "      <td>2.63</td>\n",
       "    </tr>\n",
       "    <tr>\n",
       "      <th>4</th>\n",
       "      <td>5</td>\n",
       "      <td>0.31</td>\n",
       "      <td>1</td>\n",
       "      <td>6</td>\n",
       "      <td>3</td>\n",
       "      <td>63.3</td>\n",
       "      <td>58.0</td>\n",
       "      <td>335</td>\n",
       "      <td>4.34</td>\n",
       "      <td>4.35</td>\n",
       "      <td>2.75</td>\n",
       "    </tr>\n",
       "  </tbody>\n",
       "</table>\n",
       "</div>"
      ],
      "text/plain": [
       "   Unnamed: 0  carat  cut  color  clarity  depth  table  price     x     y  \\\n",
       "0           1   0.23    2      1        3   61.5   55.0    326  3.95  3.98   \n",
       "1           2   0.21    3      1        2   59.8   61.0    326  3.89  3.84   \n",
       "2           3   0.23    1      1        4   56.9   65.0    327  4.05  4.07   \n",
       "3           4   0.29    3      5        5   62.4   58.0    334  4.20  4.23   \n",
       "4           5   0.31    1      6        3   63.3   58.0    335  4.34  4.35   \n",
       "\n",
       "      z  \n",
       "0  2.43  \n",
       "1  2.31  \n",
       "2  2.31  \n",
       "3  2.63  \n",
       "4  2.75  "
      ]
     },
     "execution_count": 37,
     "metadata": {},
     "output_type": "execute_result"
    }
   ],
   "source": [
    "from sklearn.preprocessing import OrdinalEncoder\n",
    "label_data2 = df.copy()\n",
    "ord_encoder = OrdinalEncoder()\n",
    "for col in object_cols:\n",
    "    label_data2[col] = label_encoder.fit_transform(label_data2[col])\n",
    "label_data2.head()"
   ]
  },
  {
   "cell_type": "markdown",
   "metadata": {},
   "source": [
    "One-Hot Encoding: It simply creates additional features based on the number of unique values in the categorical feature. Every unique value in the category will be added as a feature.\n",
    "One-Hot Encoding is the process of creating dummy variables.The Dummy Variable Trap leads to the problem known as multicollinearity. Multicollinearity occurs where there is a dependency between the independent features. Multicollinearity is a serious issue in machine learning models like Linear Regression."
   ]
  },
  {
   "cell_type": "markdown",
   "metadata": {},
   "source": [
    "one hot encoding is the most preferred when the features of the categorical variables to be converted are not ordinal. Also, one hot encoding works effectively when the number of categorical features present in the given dataset is very less. It is not recommended using One-hot encoding on features with high cardinality. This means if the categorical feature has a high number of unique values, it will create a new feature for every single unique value. Your dataset could then go from having 20 features to having 1000 features."
   ]
  },
  {
   "cell_type": "code",
   "execution_count": 38,
   "metadata": {},
   "outputs": [
    {
     "data": {
      "text/html": [
       "<div>\n",
       "<style scoped>\n",
       "    .dataframe tbody tr th:only-of-type {\n",
       "        vertical-align: middle;\n",
       "    }\n",
       "\n",
       "    .dataframe tbody tr th {\n",
       "        vertical-align: top;\n",
       "    }\n",
       "\n",
       "    .dataframe thead th {\n",
       "        text-align: right;\n",
       "    }\n",
       "</style>\n",
       "<table border=\"1\" class=\"dataframe\">\n",
       "  <thead>\n",
       "    <tr style=\"text-align: right;\">\n",
       "      <th></th>\n",
       "      <th>Unnamed: 0</th>\n",
       "      <th>carat</th>\n",
       "      <th>cut</th>\n",
       "      <th>color</th>\n",
       "      <th>clarity</th>\n",
       "      <th>depth</th>\n",
       "      <th>table</th>\n",
       "      <th>price</th>\n",
       "      <th>x</th>\n",
       "      <th>y</th>\n",
       "      <th>z</th>\n",
       "    </tr>\n",
       "  </thead>\n",
       "  <tbody>\n",
       "    <tr>\n",
       "      <th>0</th>\n",
       "      <td>1</td>\n",
       "      <td>0.23</td>\n",
       "      <td>2</td>\n",
       "      <td>1</td>\n",
       "      <td>3</td>\n",
       "      <td>61.5</td>\n",
       "      <td>55.0</td>\n",
       "      <td>326</td>\n",
       "      <td>3.95</td>\n",
       "      <td>3.98</td>\n",
       "      <td>2.43</td>\n",
       "    </tr>\n",
       "    <tr>\n",
       "      <th>1</th>\n",
       "      <td>2</td>\n",
       "      <td>0.21</td>\n",
       "      <td>3</td>\n",
       "      <td>1</td>\n",
       "      <td>2</td>\n",
       "      <td>59.8</td>\n",
       "      <td>61.0</td>\n",
       "      <td>326</td>\n",
       "      <td>3.89</td>\n",
       "      <td>3.84</td>\n",
       "      <td>2.31</td>\n",
       "    </tr>\n",
       "    <tr>\n",
       "      <th>2</th>\n",
       "      <td>3</td>\n",
       "      <td>0.23</td>\n",
       "      <td>1</td>\n",
       "      <td>1</td>\n",
       "      <td>4</td>\n",
       "      <td>56.9</td>\n",
       "      <td>65.0</td>\n",
       "      <td>327</td>\n",
       "      <td>4.05</td>\n",
       "      <td>4.07</td>\n",
       "      <td>2.31</td>\n",
       "    </tr>\n",
       "    <tr>\n",
       "      <th>3</th>\n",
       "      <td>4</td>\n",
       "      <td>0.29</td>\n",
       "      <td>3</td>\n",
       "      <td>5</td>\n",
       "      <td>5</td>\n",
       "      <td>62.4</td>\n",
       "      <td>58.0</td>\n",
       "      <td>334</td>\n",
       "      <td>4.20</td>\n",
       "      <td>4.23</td>\n",
       "      <td>2.63</td>\n",
       "    </tr>\n",
       "    <tr>\n",
       "      <th>4</th>\n",
       "      <td>5</td>\n",
       "      <td>0.31</td>\n",
       "      <td>1</td>\n",
       "      <td>6</td>\n",
       "      <td>3</td>\n",
       "      <td>63.3</td>\n",
       "      <td>58.0</td>\n",
       "      <td>335</td>\n",
       "      <td>4.34</td>\n",
       "      <td>4.35</td>\n",
       "      <td>2.75</td>\n",
       "    </tr>\n",
       "  </tbody>\n",
       "</table>\n",
       "</div>"
      ],
      "text/plain": [
       "   Unnamed: 0  carat  cut  color  clarity  depth  table  price     x     y  \\\n",
       "0           1   0.23    2      1        3   61.5   55.0    326  3.95  3.98   \n",
       "1           2   0.21    3      1        2   59.8   61.0    326  3.89  3.84   \n",
       "2           3   0.23    1      1        4   56.9   65.0    327  4.05  4.07   \n",
       "3           4   0.29    3      5        5   62.4   58.0    334  4.20  4.23   \n",
       "4           5   0.31    1      6        3   63.3   58.0    335  4.34  4.35   \n",
       "\n",
       "      z  \n",
       "0  2.43  \n",
       "1  2.31  \n",
       "2  2.31  \n",
       "3  2.63  \n",
       "4  2.75  "
      ]
     },
     "execution_count": 38,
     "metadata": {},
     "output_type": "execute_result"
    }
   ],
   "source": [
    "from sklearn.preprocessing import OneHotEncoder\n",
    "label_data3 = df.copy()\n",
    "onehotencoder = OneHotEncoder()\n",
    "for col in object_cols:\n",
    "    label_data3[col] = label_encoder.fit_transform(label_data3[col])\n",
    "label_data3.head()"
   ]
  },
  {
   "cell_type": "code",
   "execution_count": 39,
   "metadata": {},
   "outputs": [
    {
     "name": "stdout",
     "output_type": "stream",
     "text": [
      "Correlation matrix is : \n",
      "            Unnamed: 0     carat     depth     table     price         x  \\\n",
      "Unnamed: 0    1.000000 -0.378162 -0.035085 -0.100841 -0.307073 -0.406320   \n",
      "carat        -0.378162  1.000000  0.028381  0.181720  0.921581  0.977777   \n",
      "depth        -0.035085  0.028381  1.000000 -0.295778 -0.010628 -0.024914   \n",
      "table        -0.100841  0.181720 -0.295778  1.000000  0.127305  0.196174   \n",
      "price        -0.307073  0.921581 -0.010628  0.127305  1.000000  0.887213   \n",
      "x            -0.406320  0.977777 -0.024914  0.196174  0.887213  1.000000   \n",
      "y            -0.407232  0.976858 -0.028049  0.190021  0.888810  0.998657   \n",
      "z            -0.409417  0.976991  0.096680  0.155818  0.882575  0.991619   \n",
      "\n",
      "                   y         z  \n",
      "Unnamed: 0 -0.407232 -0.409417  \n",
      "carat       0.976858  0.976991  \n",
      "depth      -0.028049  0.096680  \n",
      "table       0.190021  0.155818  \n",
      "price       0.888810  0.882575  \n",
      "x           0.998657  0.991619  \n",
      "y           1.000000  0.991276  \n",
      "z           0.991276  1.000000  \n"
     ]
    }
   ],
   "source": [
    "# form correlation matrix\n",
    "matrix = df.corr()\n",
    "print(\"Correlation matrix is : \")\n",
    "print(matrix)"
   ]
  },
  {
   "cell_type": "code",
   "execution_count": 40,
   "metadata": {},
   "outputs": [
    {
     "data": {
      "image/png": "[encoded data removed]",
      "text/plain": [
       "<Figure size 432x288 with 2 Axes>"
      ]
     },
     "metadata": {
      "needs_background": "light"
     },
     "output_type": "display_data"
    }
   ],
   "source": [
    "dataplot = sns.heatmap(df.corr(), cmap=\"YlGnBu\", annot=True)\n",
    "  \n",
    "# displaying heatmap\n",
    "plt.show()"
   ]
  },
  {
   "cell_type": "markdown",
   "metadata": {},
   "source": [
    "A correlation heatmap is a graphical representation of a correlation matrix representing the correlation between different variables.\n",
    "The value of correlation can take any value from -1 to 1.\n",
    "Correlation between two random variables or bivariate data does not necessarily imply a causal relationship.\n",
    "The values in the cells indicate the strength of the relationship, with positive values indicating a positive relationship and negative values indicating a negative relationship. Correlation heatmaps can be used to find potential relationships between variables and to understand the strength of these relationships. In addition, correlation plots can be used to identify outliers and to detect linear and nonlinear relationships"
   ]
  },
  {
   "cell_type": "code",
   "execution_count": 41,
   "metadata": {},
   "outputs": [],
   "source": [
    "df=label_data2.drop([\"Unnamed: 0\"], axis=1)\n",
    "A=df.drop([\"price\"], axis=1)\n",
    "y=df['price']"
   ]
  },
  {
   "cell_type": "code",
   "execution_count": 42,
   "metadata": {},
   "outputs": [
    {
     "data": {
      "text/plain": [
       "(53914, 9)"
      ]
     },
     "execution_count": 42,
     "metadata": {},
     "output_type": "execute_result"
    }
   ],
   "source": [
    "A.shape"
   ]
  },
  {
   "cell_type": "code",
   "execution_count": 43,
   "metadata": {},
   "outputs": [
    {
     "data": {
      "text/plain": [
       "(9, 9)"
      ]
     },
     "execution_count": 43,
     "metadata": {},
     "output_type": "execute_result"
    }
   ],
   "source": [
    "A.T.dot(A).shape"
   ]
  },
  {
   "cell_type": "markdown",
   "metadata": {},
   "source": [
    " dimension of 𝐴TA = d+1 * d+1"
   ]
  },
  {
   "cell_type": "code",
   "execution_count": 44,
   "metadata": {},
   "outputs": [
    {
     "data": {
      "text/plain": [
       "(53914,)"
      ]
     },
     "execution_count": 44,
     "metadata": {},
     "output_type": "execute_result"
    }
   ],
   "source": [
    "y.shape"
   ]
  },
  {
   "cell_type": "code",
   "execution_count": 45,
   "metadata": {},
   "outputs": [],
   "source": [
    "w_estimate = np.dot(np.dot(np.linalg.inv(np.dot(A.T,A)),A.T), y)"
   ]
  },
  {
   "cell_type": "code",
   "execution_count": 46,
   "metadata": {},
   "outputs": [
    {
     "data": {
      "text/plain": [
       "(9,)"
      ]
     },
     "execution_count": 46,
     "metadata": {},
     "output_type": "execute_result"
    }
   ],
   "source": [
    "w_estimate.shape"
   ]
  },
  {
   "cell_type": "code",
   "execution_count": 47,
   "metadata": {},
   "outputs": [
    {
     "data": {
      "text/plain": [
       "0         254.804759\n",
       "1        -716.270997\n",
       "2        -222.291001\n",
       "3        -198.184524\n",
       "4       -1213.636469\n",
       "            ...     \n",
       "53935    3361.330673\n",
       "53936    3314.921190\n",
       "53937    2838.326241\n",
       "53938    3537.085513\n",
       "53939    3901.679443\n",
       "Length: 53914, dtype: float64"
      ]
     },
     "execution_count": 47,
     "metadata": {},
     "output_type": "execute_result"
    }
   ],
   "source": [
    "y_predict=A.dot(w_estimate)\n",
    "y_predict"
   ]
  },
  {
   "cell_type": "code",
   "execution_count": 48,
   "metadata": {},
   "outputs": [
    {
     "data": {
      "text/plain": [
       "1797563.8702039686"
      ]
     },
     "execution_count": 48,
     "metadata": {},
     "output_type": "execute_result"
    }
   ],
   "source": [
    "from sklearn.metrics import mean_squared_error\n",
    "loss = mean_squared_error(A@w_estimate,y)\n",
    "loss"
   ]
  },
  {
   "cell_type": "code",
   "execution_count": 49,
   "metadata": {},
   "outputs": [],
   "source": [
    "from sklearn.model_selection import train_test_split\n",
    "train , test = train_test_split(df, test_size = 0.3)"
   ]
  },
  {
   "cell_type": "code",
   "execution_count": 50,
   "metadata": {},
   "outputs": [],
   "source": [
    "x_train = train.drop('price', axis=1)\n",
    "y_train = train['price']\n",
    "\n",
    "x_test = test.drop('price', axis = 1)\n",
    "y_test = test['price']"
   ]
  },
  {
   "cell_type": "code",
   "execution_count": 51,
   "metadata": {},
   "outputs": [],
   "source": [
    "from sklearn.preprocessing import MinMaxScaler\n",
    "scaler = MinMaxScaler(feature_range=(0, 1))\n",
    "\n",
    "x_train_scaled = scaler.fit_transform(x_train)\n",
    "x_train = pd.DataFrame(x_train_scaled)\n",
    "\n",
    "x_test_scaled = scaler.fit_transform(x_test)\n",
    "x_test = pd.DataFrame(x_test_scaled)"
   ]
  },
  {
   "cell_type": "code",
   "execution_count": 52,
   "metadata": {},
   "outputs": [],
   "source": [
    "from sklearn.neighbors import KNeighborsRegressor\n",
    "from sklearn.model_selection  import train_test_split, cross_val_score\n",
    "from sklearn.metrics import accuracy_score, mean_squared_error\n",
    "from math import sqrt\n",
    "import matplotlib.pyplot as plt\n",
    "%matplotlib inline"
   ]
  },
  {
   "cell_type": "code",
   "execution_count": 53,
   "metadata": {},
   "outputs": [],
   "source": [
    "scores = []\n",
    "neighbors = np.arange(1, 10)"
   ]
  },
  {
   "cell_type": "code",
   "execution_count": 54,
   "metadata": {},
   "outputs": [],
   "source": [
    "for k in neighbors:   # running for different K values to know which yields the max accuracy. \n",
    "    clf = KNeighborsRegressor(n_neighbors = k,  weights = 'distance', p=1)\n",
    "    clf.fit(x_train, y_train)\n",
    "    score = cross_val_score(clf, x_train, y_train, cv = 10)\n",
    "    scores.append(score.mean())"
   ]
  },
  {
   "cell_type": "code",
   "execution_count": 95,
   "metadata": {},
   "outputs": [
    {
     "data": {
      "text/plain": [
       "[0.9644124755748047,\n",
       " 0.9721400369320854,\n",
       " 0.9737925897713865,\n",
       " 0.974782088519374,\n",
       " 0.9749665759639932,\n",
       " 0.9747751081567468,\n",
       " 0.9744569011195743,\n",
       " 0.9741727629860767,\n",
       " 0.9739641053640552]"
      ]
     },
     "execution_count": 95,
     "metadata": {},
     "output_type": "execute_result"
    }
   ],
   "source": [
    "scores"
   ]
  },
  {
   "cell_type": "code",
   "execution_count": 96,
   "metadata": {},
   "outputs": [
    {
     "data": {
      "text/plain": [
       "[0.035587524425195305,\n",
       " 0.027859963067914606,\n",
       " 0.026207410228613504,\n",
       " 0.02521791148062602,\n",
       " 0.025033424036006835,\n",
       " 0.02522489184325316,\n",
       " 0.02554309888042572,\n",
       " 0.02582723701392331,\n",
       " 0.0260358946359448]"
      ]
     },
     "execution_count": 96,
     "metadata": {},
     "output_type": "execute_result"
    }
   ],
   "source": [
    "mse = [1-x for x in scores]\n",
    "mse"
   ]
  },
  {
   "cell_type": "code",
   "execution_count": 56,
   "metadata": {},
   "outputs": [
    {
     "name": "stdout",
     "output_type": "stream",
     "text": [
      "Optimal K:  5\n"
     ]
    }
   ],
   "source": [
    "optimal_k = neighbors[mse.index(min(mse))]\n",
    "print(\"Optimal K: \", optimal_k)"
   ]
  },
  {
   "cell_type": "code",
   "execution_count": 57,
   "metadata": {},
   "outputs": [
    {
     "name": "stdout",
     "output_type": "stream",
     "text": [
      "Accuracy:  88.65114929842586\n",
      "RMS Error:  1844048.9050633695\n"
     ]
    }
   ],
   "source": [
    "clf_optimal = KNeighborsRegressor(n_neighbors = optimal_k)\n",
    "clf_optimal.fit(x_train, y_train)\n",
    "y_pred = clf_optimal.predict(x_test)\n",
    "acc = clf_optimal.score(x_test, y_test)\n",
    "print(\"Accuracy: \", acc*100)\n",
    "print(\"RMS Error: \", mean_squared_error(y_test, y_pred))"
   ]
  },
  {
   "cell_type": "code",
   "execution_count": 58,
   "metadata": {
    "scrolled": false
   },
   "outputs": [],
   "source": [
    "# rmse_val = [] #to store rmse values for different k\n",
    "# for K in range(20):\n",
    "#     K = K+1\n",
    "#     model = KNeighborsRegressor(n_neighbors = K)\n",
    "#     model.fit(x_train, y_train)  #fit the model\n",
    "#     pred=model.predict(x_test) #make prediction on test set\n",
    "#     error = sqrt(mean_squared_error(y_test,pred)) #calculate rmse\n",
    "#     rmse_val.append(error) #store rmse values\n",
    "#     print('RMSE value for k= ' , K , 'is:', error)\n",
    "# print(f\" Best value of k is {rmse_val.index(min(rmse_val))}\")"
   ]
  },
  {
   "cell_type": "markdown",
   "metadata": {},
   "source": [
    "## PART C CLASSIFICATION"
   ]
  },
  {
   "cell_type": "code",
   "execution_count": 59,
   "metadata": {},
   "outputs": [
    {
     "name": "stdout",
     "output_type": "stream",
     "text": [
      "Requirement already satisfied: mlxtend in c:\\users\\srinidhi\\anaconda3\\lib\\site-packages (0.20.0)\n",
      "Requirement already satisfied: numpy>=1.16.2 in c:\\users\\srinidhi\\anaconda3\\lib\\site-packages (from mlxtend) (1.19.2)\n",
      "Requirement already satisfied: joblib>=0.13.2 in c:\\users\\srinidhi\\anaconda3\\lib\\site-packages (from mlxtend) (0.17.0)\n",
      "Requirement already satisfied: scikit-learn>=1.0.2 in c:\\users\\srinidhi\\anaconda3\\lib\\site-packages (from mlxtend) (1.1.2)\n",
      "Requirement already satisfied: setuptools in c:\\users\\srinidhi\\anaconda3\\lib\\site-packages (from mlxtend) (50.3.1.post20201107)\n",
      "Requirement already satisfied: pandas>=0.24.2 in c:\\users\\srinidhi\\anaconda3\\lib\\site-packages (from mlxtend) (1.1.3)\n",
      "Requirement already satisfied: scipy>=1.2.1 in c:\\users\\srinidhi\\anaconda3\\lib\\site-packages (from mlxtend) (1.5.2)\n",
      "Requirement already satisfied: matplotlib>=3.0.0 in c:\\users\\srinidhi\\anaconda3\\lib\\site-packages (from mlxtend) (3.3.2)\n",
      "Requirement already satisfied: threadpoolctl>=2.0.0 in c:\\users\\srinidhi\\anaconda3\\lib\\site-packages (from scikit-learn>=1.0.2->mlxtend) (2.1.0)\n",
      "Requirement already satisfied: pytz>=2017.2 in c:\\users\\srinidhi\\anaconda3\\lib\\site-packages (from pandas>=0.24.2->mlxtend) (2020.1)\n",
      "Requirement already satisfied: python-dateutil>=2.7.3 in c:\\users\\srinidhi\\anaconda3\\lib\\site-packages (from pandas>=0.24.2->mlxtend) (2.8.1)\n",
      "Requirement already satisfied: certifi>=2020.06.20 in c:\\users\\srinidhi\\anaconda3\\lib\\site-packages (from matplotlib>=3.0.0->mlxtend) (2020.6.20)\n",
      "Requirement already satisfied: kiwisolver>=1.0.1 in c:\\users\\srinidhi\\anaconda3\\lib\\site-packages (from matplotlib>=3.0.0->mlxtend) (1.3.0)\n",
      "Requirement already satisfied: pyparsing!=2.0.4,!=2.1.2,!=2.1.6,>=2.0.3 in c:\\users\\srinidhi\\anaconda3\\lib\\site-packages (from matplotlib>=3.0.0->mlxtend) (2.4.7)\n",
      "Requirement already satisfied: cycler>=0.10 in c:\\users\\srinidhi\\anaconda3\\lib\\site-packages (from matplotlib>=3.0.0->mlxtend) (0.10.0)\n",
      "Requirement already satisfied: pillow>=6.2.0 in c:\\users\\srinidhi\\anaconda3\\lib\\site-packages (from matplotlib>=3.0.0->mlxtend) (8.0.1)\n",
      "Requirement already satisfied: six>=1.5 in c:\\users\\srinidhi\\anaconda3\\lib\\site-packages (from python-dateutil>=2.7.3->pandas>=0.24.2->mlxtend) (1.15.0)\n",
      "Note: you may need to restart the kernel to use updated packages.\n"
     ]
    }
   ],
   "source": [
    "pip install mlxtend "
   ]
  },
  {
   "cell_type": "code",
   "execution_count": 60,
   "metadata": {},
   "outputs": [],
   "source": [
    "import pandas as pd\n",
    "import numpy as np\n",
    "import matplotlib.pyplot as plt\n",
    "from sklearn.metrics import confusion_matrix\n",
    "from sklearn.tree import DecisionTreeClassifier\n",
    "from sklearn.model_selection import train_test_split\n",
    "from mlxtend.plotting import plot_confusion_matrix\n",
    "from sklearn import metrics"
   ]
  },
  {
   "cell_type": "code",
   "execution_count": 61,
   "metadata": {},
   "outputs": [
    {
     "name": "stdout",
     "output_type": "stream",
     "text": [
      "     Buying_Cost Maintainance_Cost Number_of_doors Number_of_Passenger  \\\n",
      "0          vhigh               med               2                   4   \n",
      "1          vhigh               med           5more                   4   \n",
      "2            med             vhigh           5more                   4   \n",
      "3           high              high               3                   2   \n",
      "4          vhigh             vhigh           5more                   4   \n",
      "...          ...               ...             ...                 ...   \n",
      "1549        high             vhigh               4                   2   \n",
      "1550         med             vhigh               4                more   \n",
      "1551       vhigh               low               4                   4   \n",
      "1552         low             vhigh               3                more   \n",
      "1553         low               med               3                   4   \n",
      "\n",
      "     Luggage_Space Safety_Features How_is_the_deal  \n",
      "0            small             low        Bad_deal  \n",
      "1            small             low        Bad_deal  \n",
      "2            small             low        Bad_deal  \n",
      "3              med             med        Bad_deal  \n",
      "4            small             med        Bad_deal  \n",
      "...            ...             ...             ...  \n",
      "1549         small             low        Bad_deal  \n",
      "1550           med            high        Bad_deal  \n",
      "1551           big             med        Bad_deal  \n",
      "1552         small            high        Bad_deal  \n",
      "1553           big            high       Nice_deal  \n",
      "\n",
      "[1554 rows x 7 columns]\n"
     ]
    }
   ],
   "source": [
    "import pandas as pd\n",
    "df = pd.read_csv('https://raw.githubusercontent.com/sarang-iitb/Car_Condition_evaluation_dataset/main/training_data.csv')\n",
    "testdf= pd.read_csv('https://raw.githubusercontent.com/sarang-iitb/Car_Condition_evaluation_dataset/main/testing_data.csv')\n",
    "print(df)"
   ]
  },
  {
   "cell_type": "code",
   "execution_count": 62,
   "metadata": {},
   "outputs": [
    {
     "data": {
      "text/plain": [
       "Index(['Buying_Cost', 'Maintainance_Cost', 'Number_of_doors',\n",
       "       'Number_of_Passenger', 'Luggage_Space', 'Safety_Features',\n",
       "       'How_is_the_deal'],\n",
       "      dtype='object')"
      ]
     },
     "execution_count": 62,
     "metadata": {},
     "output_type": "execute_result"
    }
   ],
   "source": [
    "df.columns"
   ]
  },
  {
   "cell_type": "code",
   "execution_count": 63,
   "metadata": {},
   "outputs": [
    {
     "data": {
      "text/html": [
       "<div>\n",
       "<style scoped>\n",
       "    .dataframe tbody tr th:only-of-type {\n",
       "        vertical-align: middle;\n",
       "    }\n",
       "\n",
       "    .dataframe tbody tr th {\n",
       "        vertical-align: top;\n",
       "    }\n",
       "\n",
       "    .dataframe thead th {\n",
       "        text-align: right;\n",
       "    }\n",
       "</style>\n",
       "<table border=\"1\" class=\"dataframe\">\n",
       "  <thead>\n",
       "    <tr style=\"text-align: right;\">\n",
       "      <th></th>\n",
       "      <th>Buying_Cost</th>\n",
       "      <th>Maintainance_Cost</th>\n",
       "      <th>Number_of_doors</th>\n",
       "      <th>Number_of_Passenger</th>\n",
       "      <th>Luggage_Space</th>\n",
       "      <th>Safety_Features</th>\n",
       "      <th>How_is_the_deal</th>\n",
       "    </tr>\n",
       "  </thead>\n",
       "  <tbody>\n",
       "    <tr>\n",
       "      <th>0</th>\n",
       "      <td>vhigh</td>\n",
       "      <td>med</td>\n",
       "      <td>2</td>\n",
       "      <td>4</td>\n",
       "      <td>small</td>\n",
       "      <td>low</td>\n",
       "      <td>Bad_deal</td>\n",
       "    </tr>\n",
       "    <tr>\n",
       "      <th>1</th>\n",
       "      <td>vhigh</td>\n",
       "      <td>med</td>\n",
       "      <td>5more</td>\n",
       "      <td>4</td>\n",
       "      <td>small</td>\n",
       "      <td>low</td>\n",
       "      <td>Bad_deal</td>\n",
       "    </tr>\n",
       "    <tr>\n",
       "      <th>2</th>\n",
       "      <td>med</td>\n",
       "      <td>vhigh</td>\n",
       "      <td>5more</td>\n",
       "      <td>4</td>\n",
       "      <td>small</td>\n",
       "      <td>low</td>\n",
       "      <td>Bad_deal</td>\n",
       "    </tr>\n",
       "    <tr>\n",
       "      <th>3</th>\n",
       "      <td>high</td>\n",
       "      <td>high</td>\n",
       "      <td>3</td>\n",
       "      <td>2</td>\n",
       "      <td>med</td>\n",
       "      <td>med</td>\n",
       "      <td>Bad_deal</td>\n",
       "    </tr>\n",
       "    <tr>\n",
       "      <th>4</th>\n",
       "      <td>vhigh</td>\n",
       "      <td>vhigh</td>\n",
       "      <td>5more</td>\n",
       "      <td>4</td>\n",
       "      <td>small</td>\n",
       "      <td>med</td>\n",
       "      <td>Bad_deal</td>\n",
       "    </tr>\n",
       "    <tr>\n",
       "      <th>...</th>\n",
       "      <td>...</td>\n",
       "      <td>...</td>\n",
       "      <td>...</td>\n",
       "      <td>...</td>\n",
       "      <td>...</td>\n",
       "      <td>...</td>\n",
       "      <td>...</td>\n",
       "    </tr>\n",
       "    <tr>\n",
       "      <th>1549</th>\n",
       "      <td>high</td>\n",
       "      <td>vhigh</td>\n",
       "      <td>4</td>\n",
       "      <td>2</td>\n",
       "      <td>small</td>\n",
       "      <td>low</td>\n",
       "      <td>Bad_deal</td>\n",
       "    </tr>\n",
       "    <tr>\n",
       "      <th>1550</th>\n",
       "      <td>med</td>\n",
       "      <td>vhigh</td>\n",
       "      <td>4</td>\n",
       "      <td>more</td>\n",
       "      <td>med</td>\n",
       "      <td>high</td>\n",
       "      <td>Bad_deal</td>\n",
       "    </tr>\n",
       "    <tr>\n",
       "      <th>1551</th>\n",
       "      <td>vhigh</td>\n",
       "      <td>low</td>\n",
       "      <td>4</td>\n",
       "      <td>4</td>\n",
       "      <td>big</td>\n",
       "      <td>med</td>\n",
       "      <td>Bad_deal</td>\n",
       "    </tr>\n",
       "    <tr>\n",
       "      <th>1552</th>\n",
       "      <td>low</td>\n",
       "      <td>vhigh</td>\n",
       "      <td>3</td>\n",
       "      <td>more</td>\n",
       "      <td>small</td>\n",
       "      <td>high</td>\n",
       "      <td>Bad_deal</td>\n",
       "    </tr>\n",
       "    <tr>\n",
       "      <th>1553</th>\n",
       "      <td>low</td>\n",
       "      <td>med</td>\n",
       "      <td>3</td>\n",
       "      <td>4</td>\n",
       "      <td>big</td>\n",
       "      <td>high</td>\n",
       "      <td>Nice_deal</td>\n",
       "    </tr>\n",
       "  </tbody>\n",
       "</table>\n",
       "<p>1554 rows × 7 columns</p>\n",
       "</div>"
      ],
      "text/plain": [
       "     Buying_Cost Maintainance_Cost Number_of_doors Number_of_Passenger  \\\n",
       "0          vhigh               med               2                   4   \n",
       "1          vhigh               med           5more                   4   \n",
       "2            med             vhigh           5more                   4   \n",
       "3           high              high               3                   2   \n",
       "4          vhigh             vhigh           5more                   4   \n",
       "...          ...               ...             ...                 ...   \n",
       "1549        high             vhigh               4                   2   \n",
       "1550         med             vhigh               4                more   \n",
       "1551       vhigh               low               4                   4   \n",
       "1552         low             vhigh               3                more   \n",
       "1553         low               med               3                   4   \n",
       "\n",
       "     Luggage_Space Safety_Features How_is_the_deal  \n",
       "0            small             low        Bad_deal  \n",
       "1            small             low        Bad_deal  \n",
       "2            small             low        Bad_deal  \n",
       "3              med             med        Bad_deal  \n",
       "4            small             med        Bad_deal  \n",
       "...            ...             ...             ...  \n",
       "1549         small             low        Bad_deal  \n",
       "1550           med            high        Bad_deal  \n",
       "1551           big             med        Bad_deal  \n",
       "1552         small            high        Bad_deal  \n",
       "1553           big            high       Nice_deal  \n",
       "\n",
       "[1554 rows x 7 columns]"
      ]
     },
     "execution_count": 63,
     "metadata": {},
     "output_type": "execute_result"
    }
   ],
   "source": [
    "df[df.columns]"
   ]
  },
  {
   "cell_type": "code",
   "execution_count": 64,
   "metadata": {},
   "outputs": [
    {
     "name": "stdout",
     "output_type": "stream",
     "text": [
      "['vhigh' 'med' 'high' 'low']\n",
      "['med' 'vhigh' 'high' 'low']\n",
      "['2' '5more' '3' '4']\n",
      "['4' '2' 'more']\n",
      "['small' 'med' 'big']\n",
      "['low' 'med' 'high']\n",
      "['Bad_deal' 'Nice_deal']\n"
     ]
    }
   ],
   "source": [
    "print(df[\"Buying_Cost\"].unique())\n",
    "print(df[\"Maintainance_Cost\"].unique())\n",
    "print(df[\"Number_of_doors\"].unique())\n",
    "print(df[\"Number_of_Passenger\"].unique())\n",
    "print(df[\"Luggage_Space\"].unique())\n",
    "print(df[\"Safety_Features\"].unique())\n",
    "print(df[\"How_is_the_deal\"].unique())"
   ]
  },
  {
   "cell_type": "code",
   "execution_count": 65,
   "metadata": {},
   "outputs": [
    {
     "data": {
      "text/plain": [
       "Bad_deal     1434\n",
       "Nice_deal     120\n",
       "Name: How_is_the_deal, dtype: int64"
      ]
     },
     "execution_count": 65,
     "metadata": {},
     "output_type": "execute_result"
    }
   ],
   "source": [
    "df[\"How_is_the_deal\"].value_counts()"
   ]
  },
  {
   "cell_type": "code",
   "execution_count": 66,
   "metadata": {},
   "outputs": [
    {
     "data": {
      "text/plain": [
       "<AxesSubplot:>"
      ]
     },
     "execution_count": 66,
     "metadata": {},
     "output_type": "execute_result"
    },
    {
     "data": {
      "image/png": "[encoded data removed]",
      "text/plain": [
       "<Figure size 432x288 with 1 Axes>"
      ]
     },
     "metadata": {
      "needs_background": "light"
     },
     "output_type": "display_data"
    }
   ],
   "source": [
    "#Distribution of Independent Variables\n",
    "df['Safety_Features'].value_counts().plot(kind = 'bar')"
   ]
  },
  {
   "cell_type": "code",
   "execution_count": 67,
   "metadata": {},
   "outputs": [
    {
     "name": "stderr",
     "output_type": "stream",
     "text": [
      "C:\\Users\\Srinidhi\\anaconda3\\lib\\site-packages\\seaborn\\_decorators.py:36: FutureWarning: Pass the following variable as a keyword arg: x. From version 0.12, the only valid positional argument will be `data`, and passing other arguments without an explicit keyword will result in an error or misinterpretation.\n",
      "  warnings.warn(\n"
     ]
    },
    {
     "data": {
      "image/png": "[encoded data removed]",
      "text/plain": [
       "<Figure size 432x288 with 1 Axes>"
      ]
     },
     "metadata": {
      "needs_background": "light"
     },
     "output_type": "display_data"
    }
   ],
   "source": [
    "sns.countplot(df[\"Buying_Cost\"], hue = df[\"How_is_the_deal\"])\n",
    "plt.show()"
   ]
  },
  {
   "cell_type": "code",
   "execution_count": 68,
   "metadata": {},
   "outputs": [
    {
     "data": {
      "text/html": [
       "<div>\n",
       "<style scoped>\n",
       "    .dataframe tbody tr th:only-of-type {\n",
       "        vertical-align: middle;\n",
       "    }\n",
       "\n",
       "    .dataframe tbody tr th {\n",
       "        vertical-align: top;\n",
       "    }\n",
       "\n",
       "    .dataframe thead th {\n",
       "        text-align: right;\n",
       "    }\n",
       "</style>\n",
       "<table border=\"1\" class=\"dataframe\">\n",
       "  <thead>\n",
       "    <tr style=\"text-align: right;\">\n",
       "      <th></th>\n",
       "      <th>Buying_Cost</th>\n",
       "      <th>Maintainance_Cost</th>\n",
       "      <th>Number_of_doors</th>\n",
       "      <th>Number_of_Passenger</th>\n",
       "      <th>Luggage_Space</th>\n",
       "      <th>Safety_Features</th>\n",
       "      <th>How_is_the_deal</th>\n",
       "    </tr>\n",
       "  </thead>\n",
       "  <tbody>\n",
       "    <tr>\n",
       "      <th>0</th>\n",
       "      <td>vhigh</td>\n",
       "      <td>med</td>\n",
       "      <td>2</td>\n",
       "      <td>4</td>\n",
       "      <td>small</td>\n",
       "      <td>low</td>\n",
       "      <td>Bad_deal</td>\n",
       "    </tr>\n",
       "    <tr>\n",
       "      <th>1</th>\n",
       "      <td>vhigh</td>\n",
       "      <td>med</td>\n",
       "      <td>5more</td>\n",
       "      <td>4</td>\n",
       "      <td>small</td>\n",
       "      <td>low</td>\n",
       "      <td>Bad_deal</td>\n",
       "    </tr>\n",
       "    <tr>\n",
       "      <th>2</th>\n",
       "      <td>med</td>\n",
       "      <td>vhigh</td>\n",
       "      <td>5more</td>\n",
       "      <td>4</td>\n",
       "      <td>small</td>\n",
       "      <td>low</td>\n",
       "      <td>Bad_deal</td>\n",
       "    </tr>\n",
       "    <tr>\n",
       "      <th>3</th>\n",
       "      <td>high</td>\n",
       "      <td>high</td>\n",
       "      <td>3</td>\n",
       "      <td>2</td>\n",
       "      <td>med</td>\n",
       "      <td>med</td>\n",
       "      <td>Bad_deal</td>\n",
       "    </tr>\n",
       "    <tr>\n",
       "      <th>4</th>\n",
       "      <td>vhigh</td>\n",
       "      <td>vhigh</td>\n",
       "      <td>5more</td>\n",
       "      <td>4</td>\n",
       "      <td>small</td>\n",
       "      <td>med</td>\n",
       "      <td>Bad_deal</td>\n",
       "    </tr>\n",
       "    <tr>\n",
       "      <th>...</th>\n",
       "      <td>...</td>\n",
       "      <td>...</td>\n",
       "      <td>...</td>\n",
       "      <td>...</td>\n",
       "      <td>...</td>\n",
       "      <td>...</td>\n",
       "      <td>...</td>\n",
       "    </tr>\n",
       "    <tr>\n",
       "      <th>1549</th>\n",
       "      <td>high</td>\n",
       "      <td>vhigh</td>\n",
       "      <td>4</td>\n",
       "      <td>2</td>\n",
       "      <td>small</td>\n",
       "      <td>low</td>\n",
       "      <td>Bad_deal</td>\n",
       "    </tr>\n",
       "    <tr>\n",
       "      <th>1550</th>\n",
       "      <td>med</td>\n",
       "      <td>vhigh</td>\n",
       "      <td>4</td>\n",
       "      <td>more</td>\n",
       "      <td>med</td>\n",
       "      <td>high</td>\n",
       "      <td>Bad_deal</td>\n",
       "    </tr>\n",
       "    <tr>\n",
       "      <th>1551</th>\n",
       "      <td>vhigh</td>\n",
       "      <td>low</td>\n",
       "      <td>4</td>\n",
       "      <td>4</td>\n",
       "      <td>big</td>\n",
       "      <td>med</td>\n",
       "      <td>Bad_deal</td>\n",
       "    </tr>\n",
       "    <tr>\n",
       "      <th>1552</th>\n",
       "      <td>low</td>\n",
       "      <td>vhigh</td>\n",
       "      <td>3</td>\n",
       "      <td>more</td>\n",
       "      <td>small</td>\n",
       "      <td>high</td>\n",
       "      <td>Bad_deal</td>\n",
       "    </tr>\n",
       "    <tr>\n",
       "      <th>1553</th>\n",
       "      <td>low</td>\n",
       "      <td>med</td>\n",
       "      <td>3</td>\n",
       "      <td>4</td>\n",
       "      <td>big</td>\n",
       "      <td>high</td>\n",
       "      <td>Nice_deal</td>\n",
       "    </tr>\n",
       "  </tbody>\n",
       "</table>\n",
       "<p>1554 rows × 7 columns</p>\n",
       "</div>"
      ],
      "text/plain": [
       "     Buying_Cost Maintainance_Cost Number_of_doors Number_of_Passenger  \\\n",
       "0          vhigh               med               2                   4   \n",
       "1          vhigh               med           5more                   4   \n",
       "2            med             vhigh           5more                   4   \n",
       "3           high              high               3                   2   \n",
       "4          vhigh             vhigh           5more                   4   \n",
       "...          ...               ...             ...                 ...   \n",
       "1549        high             vhigh               4                   2   \n",
       "1550         med             vhigh               4                more   \n",
       "1551       vhigh               low               4                   4   \n",
       "1552         low             vhigh               3                more   \n",
       "1553         low               med               3                   4   \n",
       "\n",
       "     Luggage_Space Safety_Features How_is_the_deal  \n",
       "0            small             low        Bad_deal  \n",
       "1            small             low        Bad_deal  \n",
       "2            small             low        Bad_deal  \n",
       "3              med             med        Bad_deal  \n",
       "4            small             med        Bad_deal  \n",
       "...            ...             ...             ...  \n",
       "1549         small             low        Bad_deal  \n",
       "1550           med            high        Bad_deal  \n",
       "1551           big             med        Bad_deal  \n",
       "1552         small            high        Bad_deal  \n",
       "1553           big            high       Nice_deal  \n",
       "\n",
       "[1554 rows x 7 columns]"
      ]
     },
     "execution_count": 68,
     "metadata": {},
     "output_type": "execute_result"
    }
   ],
   "source": [
    "df"
   ]
  },
  {
   "cell_type": "code",
   "execution_count": 69,
   "metadata": {},
   "outputs": [
    {
     "data": {
      "text/plain": [
       "Buying_Cost            0\n",
       "Maintainance_Cost      0\n",
       "Number_of_doors        0\n",
       "Number_of_Passenger    0\n",
       "Luggage_Space          0\n",
       "Safety_Features        0\n",
       "How_is_the_deal        0\n",
       "dtype: int64"
      ]
     },
     "execution_count": 69,
     "metadata": {},
     "output_type": "execute_result"
    }
   ],
   "source": [
    "df.isnull().sum()"
   ]
  },
  {
   "cell_type": "code",
   "execution_count": 70,
   "metadata": {},
   "outputs": [
    {
     "data": {
      "text/html": [
       "<div>\n",
       "<style scoped>\n",
       "    .dataframe tbody tr th:only-of-type {\n",
       "        vertical-align: middle;\n",
       "    }\n",
       "\n",
       "    .dataframe tbody tr th {\n",
       "        vertical-align: top;\n",
       "    }\n",
       "\n",
       "    .dataframe thead th {\n",
       "        text-align: right;\n",
       "    }\n",
       "</style>\n",
       "<table border=\"1\" class=\"dataframe\">\n",
       "  <thead>\n",
       "    <tr style=\"text-align: right;\">\n",
       "      <th></th>\n",
       "      <th>0</th>\n",
       "      <th>1</th>\n",
       "      <th>2</th>\n",
       "      <th>3</th>\n",
       "      <th>4</th>\n",
       "      <th>5</th>\n",
       "      <th>6</th>\n",
       "    </tr>\n",
       "  </thead>\n",
       "  <tbody>\n",
       "    <tr>\n",
       "      <th>0</th>\n",
       "      <td>3.0</td>\n",
       "      <td>1.0</td>\n",
       "      <td>0.0</td>\n",
       "      <td>1.0</td>\n",
       "      <td>0.0</td>\n",
       "      <td>0.0</td>\n",
       "      <td>0.0</td>\n",
       "    </tr>\n",
       "    <tr>\n",
       "      <th>1</th>\n",
       "      <td>3.0</td>\n",
       "      <td>1.0</td>\n",
       "      <td>3.0</td>\n",
       "      <td>1.0</td>\n",
       "      <td>0.0</td>\n",
       "      <td>0.0</td>\n",
       "      <td>0.0</td>\n",
       "    </tr>\n",
       "    <tr>\n",
       "      <th>2</th>\n",
       "      <td>1.0</td>\n",
       "      <td>3.0</td>\n",
       "      <td>3.0</td>\n",
       "      <td>1.0</td>\n",
       "      <td>0.0</td>\n",
       "      <td>0.0</td>\n",
       "      <td>0.0</td>\n",
       "    </tr>\n",
       "    <tr>\n",
       "      <th>3</th>\n",
       "      <td>2.0</td>\n",
       "      <td>2.0</td>\n",
       "      <td>1.0</td>\n",
       "      <td>0.0</td>\n",
       "      <td>1.0</td>\n",
       "      <td>1.0</td>\n",
       "      <td>0.0</td>\n",
       "    </tr>\n",
       "    <tr>\n",
       "      <th>4</th>\n",
       "      <td>3.0</td>\n",
       "      <td>3.0</td>\n",
       "      <td>3.0</td>\n",
       "      <td>1.0</td>\n",
       "      <td>0.0</td>\n",
       "      <td>1.0</td>\n",
       "      <td>0.0</td>\n",
       "    </tr>\n",
       "    <tr>\n",
       "      <th>...</th>\n",
       "      <td>...</td>\n",
       "      <td>...</td>\n",
       "      <td>...</td>\n",
       "      <td>...</td>\n",
       "      <td>...</td>\n",
       "      <td>...</td>\n",
       "      <td>...</td>\n",
       "    </tr>\n",
       "    <tr>\n",
       "      <th>1549</th>\n",
       "      <td>2.0</td>\n",
       "      <td>3.0</td>\n",
       "      <td>2.0</td>\n",
       "      <td>0.0</td>\n",
       "      <td>0.0</td>\n",
       "      <td>0.0</td>\n",
       "      <td>0.0</td>\n",
       "    </tr>\n",
       "    <tr>\n",
       "      <th>1550</th>\n",
       "      <td>1.0</td>\n",
       "      <td>3.0</td>\n",
       "      <td>2.0</td>\n",
       "      <td>2.0</td>\n",
       "      <td>1.0</td>\n",
       "      <td>2.0</td>\n",
       "      <td>0.0</td>\n",
       "    </tr>\n",
       "    <tr>\n",
       "      <th>1551</th>\n",
       "      <td>3.0</td>\n",
       "      <td>0.0</td>\n",
       "      <td>2.0</td>\n",
       "      <td>1.0</td>\n",
       "      <td>2.0</td>\n",
       "      <td>1.0</td>\n",
       "      <td>0.0</td>\n",
       "    </tr>\n",
       "    <tr>\n",
       "      <th>1552</th>\n",
       "      <td>0.0</td>\n",
       "      <td>3.0</td>\n",
       "      <td>1.0</td>\n",
       "      <td>2.0</td>\n",
       "      <td>0.0</td>\n",
       "      <td>2.0</td>\n",
       "      <td>0.0</td>\n",
       "    </tr>\n",
       "    <tr>\n",
       "      <th>1553</th>\n",
       "      <td>0.0</td>\n",
       "      <td>1.0</td>\n",
       "      <td>1.0</td>\n",
       "      <td>1.0</td>\n",
       "      <td>2.0</td>\n",
       "      <td>2.0</td>\n",
       "      <td>1.0</td>\n",
       "    </tr>\n",
       "  </tbody>\n",
       "</table>\n",
       "<p>1554 rows × 7 columns</p>\n",
       "</div>"
      ],
      "text/plain": [
       "        0    1    2    3    4    5    6\n",
       "0     3.0  1.0  0.0  1.0  0.0  0.0  0.0\n",
       "1     3.0  1.0  3.0  1.0  0.0  0.0  0.0\n",
       "2     1.0  3.0  3.0  1.0  0.0  0.0  0.0\n",
       "3     2.0  2.0  1.0  0.0  1.0  1.0  0.0\n",
       "4     3.0  3.0  3.0  1.0  0.0  1.0  0.0\n",
       "...   ...  ...  ...  ...  ...  ...  ...\n",
       "1549  2.0  3.0  2.0  0.0  0.0  0.0  0.0\n",
       "1550  1.0  3.0  2.0  2.0  1.0  2.0  0.0\n",
       "1551  3.0  0.0  2.0  1.0  2.0  1.0  0.0\n",
       "1552  0.0  3.0  1.0  2.0  0.0  2.0  0.0\n",
       "1553  0.0  1.0  1.0  1.0  2.0  2.0  1.0\n",
       "\n",
       "[1554 rows x 7 columns]"
      ]
     },
     "execution_count": 70,
     "metadata": {},
     "output_type": "execute_result"
    }
   ],
   "source": [
    "ord_df=df.copy()\n",
    "Buy=['low','med','high','vhigh']\n",
    "Maintainance=['low','med','high','vhigh']\n",
    "doors=['2','3','4','5more']\n",
    "Passenger=['2','4','more']\n",
    "Luggage=['small','med','big']\n",
    "Safety=['low','med','high']\n",
    "deal=['Bad_deal','Nice_deal']\n",
    "oe =OrdinalEncoder(categories=[Buy,Maintainance,doors,Passenger,Luggage,Safety,deal])\n",
    "ord_df[[\"Buying_Cost\",\"Maintainance_Cost\",\"Number_of_doors\",\"Number_of_Passenger\",\"Luggage_Space\",\"Safety_Features\",\"How_is_the_deal\"]]=oe.fit_transform(ord_df[[\"Buying_Cost\",\"Maintainance_Cost\",\"Number_of_doors\",\"Number_of_Passenger\",\"Luggage_Space\",\"Safety_Features\",\"How_is_the_deal\"]])\n",
    "pd.DataFrame(oe.fit_transform(df[[\"Buying_Cost\",\"Maintainance_Cost\",\"Number_of_doors\",\"Number_of_Passenger\",\"Luggage_Space\",\"Safety_Features\",\"How_is_the_deal\"]]))"
   ]
  },
  {
   "cell_type": "code",
   "execution_count": 71,
   "metadata": {},
   "outputs": [
    {
     "name": "stdout",
     "output_type": "stream",
     "text": [
      "<class 'pandas.core.frame.DataFrame'>\n",
      "RangeIndex: 1554 entries, 0 to 1553\n",
      "Data columns (total 7 columns):\n",
      " #   Column               Non-Null Count  Dtype  \n",
      "---  ------               --------------  -----  \n",
      " 0   Buying_Cost          1554 non-null   float64\n",
      " 1   Maintainance_Cost    1554 non-null   float64\n",
      " 2   Number_of_doors      1554 non-null   float64\n",
      " 3   Number_of_Passenger  1554 non-null   float64\n",
      " 4   Luggage_Space        1554 non-null   float64\n",
      " 5   Safety_Features      1554 non-null   float64\n",
      " 6   How_is_the_deal      1554 non-null   float64\n",
      "dtypes: float64(7)\n",
      "memory usage: 85.1 KB\n"
     ]
    }
   ],
   "source": [
    "ord_df.info()"
   ]
  },
  {
   "cell_type": "code",
   "execution_count": 72,
   "metadata": {},
   "outputs": [],
   "source": [
    "X = ord_df.drop(['How_is_the_deal'], axis = 1)\n",
    "y = df['How_is_the_deal']"
   ]
  },
  {
   "cell_type": "code",
   "execution_count": 73,
   "metadata": {},
   "outputs": [
    {
     "data": {
      "text/html": [
       "<div>\n",
       "<style scoped>\n",
       "    .dataframe tbody tr th:only-of-type {\n",
       "        vertical-align: middle;\n",
       "    }\n",
       "\n",
       "    .dataframe tbody tr th {\n",
       "        vertical-align: top;\n",
       "    }\n",
       "\n",
       "    .dataframe thead th {\n",
       "        text-align: right;\n",
       "    }\n",
       "</style>\n",
       "<table border=\"1\" class=\"dataframe\">\n",
       "  <thead>\n",
       "    <tr style=\"text-align: right;\">\n",
       "      <th></th>\n",
       "      <th>Buying_Cost</th>\n",
       "      <th>Maintainance_Cost</th>\n",
       "      <th>Number_of_doors</th>\n",
       "      <th>Number_of_Passenger</th>\n",
       "      <th>Luggage_Space</th>\n",
       "      <th>Safety_Features</th>\n",
       "    </tr>\n",
       "  </thead>\n",
       "  <tbody>\n",
       "    <tr>\n",
       "      <th>0</th>\n",
       "      <td>3.0</td>\n",
       "      <td>1.0</td>\n",
       "      <td>0.0</td>\n",
       "      <td>1.0</td>\n",
       "      <td>0.0</td>\n",
       "      <td>0.0</td>\n",
       "    </tr>\n",
       "    <tr>\n",
       "      <th>1</th>\n",
       "      <td>3.0</td>\n",
       "      <td>1.0</td>\n",
       "      <td>3.0</td>\n",
       "      <td>1.0</td>\n",
       "      <td>0.0</td>\n",
       "      <td>0.0</td>\n",
       "    </tr>\n",
       "    <tr>\n",
       "      <th>2</th>\n",
       "      <td>1.0</td>\n",
       "      <td>3.0</td>\n",
       "      <td>3.0</td>\n",
       "      <td>1.0</td>\n",
       "      <td>0.0</td>\n",
       "      <td>0.0</td>\n",
       "    </tr>\n",
       "    <tr>\n",
       "      <th>3</th>\n",
       "      <td>2.0</td>\n",
       "      <td>2.0</td>\n",
       "      <td>1.0</td>\n",
       "      <td>0.0</td>\n",
       "      <td>1.0</td>\n",
       "      <td>1.0</td>\n",
       "    </tr>\n",
       "    <tr>\n",
       "      <th>4</th>\n",
       "      <td>3.0</td>\n",
       "      <td>3.0</td>\n",
       "      <td>3.0</td>\n",
       "      <td>1.0</td>\n",
       "      <td>0.0</td>\n",
       "      <td>1.0</td>\n",
       "    </tr>\n",
       "    <tr>\n",
       "      <th>...</th>\n",
       "      <td>...</td>\n",
       "      <td>...</td>\n",
       "      <td>...</td>\n",
       "      <td>...</td>\n",
       "      <td>...</td>\n",
       "      <td>...</td>\n",
       "    </tr>\n",
       "    <tr>\n",
       "      <th>1549</th>\n",
       "      <td>2.0</td>\n",
       "      <td>3.0</td>\n",
       "      <td>2.0</td>\n",
       "      <td>0.0</td>\n",
       "      <td>0.0</td>\n",
       "      <td>0.0</td>\n",
       "    </tr>\n",
       "    <tr>\n",
       "      <th>1550</th>\n",
       "      <td>1.0</td>\n",
       "      <td>3.0</td>\n",
       "      <td>2.0</td>\n",
       "      <td>2.0</td>\n",
       "      <td>1.0</td>\n",
       "      <td>2.0</td>\n",
       "    </tr>\n",
       "    <tr>\n",
       "      <th>1551</th>\n",
       "      <td>3.0</td>\n",
       "      <td>0.0</td>\n",
       "      <td>2.0</td>\n",
       "      <td>1.0</td>\n",
       "      <td>2.0</td>\n",
       "      <td>1.0</td>\n",
       "    </tr>\n",
       "    <tr>\n",
       "      <th>1552</th>\n",
       "      <td>0.0</td>\n",
       "      <td>3.0</td>\n",
       "      <td>1.0</td>\n",
       "      <td>2.0</td>\n",
       "      <td>0.0</td>\n",
       "      <td>2.0</td>\n",
       "    </tr>\n",
       "    <tr>\n",
       "      <th>1553</th>\n",
       "      <td>0.0</td>\n",
       "      <td>1.0</td>\n",
       "      <td>1.0</td>\n",
       "      <td>1.0</td>\n",
       "      <td>2.0</td>\n",
       "      <td>2.0</td>\n",
       "    </tr>\n",
       "  </tbody>\n",
       "</table>\n",
       "<p>1554 rows × 6 columns</p>\n",
       "</div>"
      ],
      "text/plain": [
       "      Buying_Cost  Maintainance_Cost  Number_of_doors  Number_of_Passenger  \\\n",
       "0             3.0                1.0              0.0                  1.0   \n",
       "1             3.0                1.0              3.0                  1.0   \n",
       "2             1.0                3.0              3.0                  1.0   \n",
       "3             2.0                2.0              1.0                  0.0   \n",
       "4             3.0                3.0              3.0                  1.0   \n",
       "...           ...                ...              ...                  ...   \n",
       "1549          2.0                3.0              2.0                  0.0   \n",
       "1550          1.0                3.0              2.0                  2.0   \n",
       "1551          3.0                0.0              2.0                  1.0   \n",
       "1552          0.0                3.0              1.0                  2.0   \n",
       "1553          0.0                1.0              1.0                  1.0   \n",
       "\n",
       "      Luggage_Space  Safety_Features  \n",
       "0               0.0              0.0  \n",
       "1               0.0              0.0  \n",
       "2               0.0              0.0  \n",
       "3               1.0              1.0  \n",
       "4               0.0              1.0  \n",
       "...             ...              ...  \n",
       "1549            0.0              0.0  \n",
       "1550            1.0              2.0  \n",
       "1551            2.0              1.0  \n",
       "1552            0.0              2.0  \n",
       "1553            2.0              2.0  \n",
       "\n",
       "[1554 rows x 6 columns]"
      ]
     },
     "execution_count": 73,
     "metadata": {},
     "output_type": "execute_result"
    }
   ],
   "source": [
    "X"
   ]
  },
  {
   "cell_type": "code",
   "execution_count": 74,
   "metadata": {},
   "outputs": [
    {
     "data": {
      "text/plain": [
       "0        Bad_deal\n",
       "1        Bad_deal\n",
       "2        Bad_deal\n",
       "3        Bad_deal\n",
       "4        Bad_deal\n",
       "          ...    \n",
       "1549     Bad_deal\n",
       "1550     Bad_deal\n",
       "1551     Bad_deal\n",
       "1552     Bad_deal\n",
       "1553    Nice_deal\n",
       "Name: How_is_the_deal, Length: 1554, dtype: object"
      ]
     },
     "execution_count": 74,
     "metadata": {},
     "output_type": "execute_result"
    }
   ],
   "source": [
    "y"
   ]
  },
  {
   "cell_type": "code",
   "execution_count": 75,
   "metadata": {},
   "outputs": [],
   "source": [
    "X_train, X_test, y_train, y_test = train_test_split(X, y, test_size = 0.3, random_state=42)"
   ]
  },
  {
   "cell_type": "code",
   "execution_count": 76,
   "metadata": {},
   "outputs": [
    {
     "data": {
      "text/plain": [
       "Bad_deal     1434\n",
       "Nice_deal     120\n",
       "Name: How_is_the_deal, dtype: int64"
      ]
     },
     "execution_count": 76,
     "metadata": {},
     "output_type": "execute_result"
    }
   ],
   "source": [
    "df[\"How_is_the_deal\"].value_counts()"
   ]
  },
  {
   "cell_type": "code",
   "execution_count": 101,
   "metadata": {
    "scrolled": true
   },
   "outputs": [],
   "source": [
    "# from sklearn.tree import DecisionTreeClassifier\n",
    "# from sklearn.model_selection import cross_val_score\n",
    "# import numpy as np\n",
    "# import matplotlib.pyplot as plt\n",
    "\n",
    "# # function for fitting trees of various depths on the training data using cross-validation\n",
    "# def run_cross_validation_on_trees(X, y, tree_depths, cv=5, scoring='accuracy'):\n",
    "#     cv_scores_list = []\n",
    "#     cv_scores_std = []\n",
    "#     cv_scores_mean = []\n",
    "#     accuracy_scores = []\n",
    "#     for depth in tree_depths:\n",
    "#         tree_model = DecisionTreeClassifier(max_depth=depth)\n",
    "#         cv_scores = cross_val_score(tree_model, X, y, cv=cv, scoring=scoring)\n",
    "#         cv_scores_list.append(cv_scores)\n",
    "#         cv_scores_mean.append(cv_scores.mean())\n",
    "#         cv_scores_std.append(cv_scores.std())\n",
    "#         accuracy_scores.append(tree_model.fit(X, y).score(X, y))\n",
    "#     cv_scores_mean = np.array(cv_scores_mean)\n",
    "#     cv_scores_std = np.array(cv_scores_std)\n",
    "#     accuracy_scores = np.array(accuracy_scores)\n",
    "#     return cv_scores_mean, cv_scores_std, accuracy_scores\n",
    "  \n",
    "# # function for plotting cross-validation results\n",
    "# def plot_cross_validation_on_trees(depths, cv_scores_mean, cv_scores_std, accuracy_scores, title):\n",
    "#     fig, ax = plt.subplots(1,1, figsize=(15,5))\n",
    "#     ax.plot(depths, cv_scores_mean, '-o', label='mean cross-validation accuracy', alpha=0.9)\n",
    "#     ax.fill_between(depths, cv_scores_mean-2*cv_scores_std, cv_scores_mean+2*cv_scores_std, alpha=0.2)\n",
    "#     ylim = plt.ylim()\n",
    "#     ax.plot(depths, accuracy_scores, '-*', label='train accuracy', alpha=0.9)\n",
    "#     ax.set_title(title, fontsize=16)\n",
    "#     ax.set_xlabel('Tree depth', fontsize=14)\n",
    "#     ax.set_ylabel('Accuracy', fontsize=14)\n",
    "#     ax.set_ylim(ylim)\n",
    "#     ax.set_xticks(depths)\n",
    "#     ax.legend()\n",
    "\n",
    "# # fitting trees of depth 1 to 24\n",
    "# sm_tree_depths = range(1,25)\n",
    "# sm_cv_scores_mean, sm_cv_scores_std, sm_accuracy_scores = run_cross_validation_on_trees(X_train, y_train, sm_tree_depths)\n",
    "\n",
    "# # plotting accuracy\n",
    "# plot_cross_validation_on_trees(sm_tree_depths, sm_cv_scores_mean, sm_cv_scores_std, sm_accuracy_scores, \n",
    "#                                'Accuracy per decision tree depth on training data')\n",
    "\n",
    "\n",
    "    \n",
    " "
   ]
  },
  {
   "cell_type": "code",
   "execution_count": 102,
   "metadata": {},
   "outputs": [],
   "source": [
    "# idx_max = sm_cv_scores_mean.argmax()\n",
    "# sm_best_tree_depth = sm_tree_depths[idx_max]\n",
    "# sm_best_tree_cv_score = sm_cv_scores_mean[idx_max]\n",
    "# sm_best_tree_cv_score_std = sm_cv_scores_std[idx_max]\n",
    "# print('The depth-{} tree achieves the best mean cross-validation accuracy {} +/- {}% on training dataset'.format(\n",
    "#       sm_best_tree_depth, round(sm_best_tree_cv_score*100,5), round(sm_best_tree_cv_score_std*100, 5)))\n"
   ]
  },
  {
   "cell_type": "code",
   "execution_count": 77,
   "metadata": {},
   "outputs": [
    {
     "data": {
      "text/html": [
       "<style>#sk-container-id-2 {color: black;background-color: white;}#sk-container-id-2 pre{padding: 0;}#sk-container-id-2 div.sk-toggleable {background-color: white;}#sk-container-id-2 label.sk-toggleable__label {cursor: pointer;display: block;width: 100%;margin-bottom: 0;padding: 0.3em;box-sizing: border-box;text-align: center;}#sk-container-id-2 label.sk-toggleable__label-arrow:before {content: \"▸\";float: left;margin-right: 0.25em;color: #696969;}#sk-container-id-2 label.sk-toggleable__label-arrow:hover:before {color: black;}#sk-container-id-2 div.sk-estimator:hover label.sk-toggleable__label-arrow:before {color: black;}#sk-container-id-2 div.sk-toggleable__content {max-height: 0;max-width: 0;overflow: hidden;text-align: left;background-color: #f0f8ff;}#sk-container-id-2 div.sk-toggleable__content pre {margin: 0.2em;color: black;border-radius: 0.25em;background-color: #f0f8ff;}#sk-container-id-2 input.sk-toggleable__control:checked~div.sk-toggleable__content {max-height: 200px;max-width: 100%;overflow: auto;}#sk-container-id-2 input.sk-toggleable__control:checked~label.sk-toggleable__label-arrow:before {content: \"▾\";}#sk-container-id-2 div.sk-estimator input.sk-toggleable__control:checked~label.sk-toggleable__label {background-color: #d4ebff;}#sk-container-id-2 div.sk-label input.sk-toggleable__control:checked~label.sk-toggleable__label {background-color: #d4ebff;}#sk-container-id-2 input.sk-hidden--visually {border: 0;clip: rect(1px 1px 1px 1px);clip: rect(1px, 1px, 1px, 1px);height: 1px;margin: -1px;overflow: hidden;padding: 0;position: absolute;width: 1px;}#sk-container-id-2 div.sk-estimator {font-family: monospace;background-color: #f0f8ff;border: 1px dotted black;border-radius: 0.25em;box-sizing: border-box;margin-bottom: 0.5em;}#sk-container-id-2 div.sk-estimator:hover {background-color: #d4ebff;}#sk-container-id-2 div.sk-parallel-item::after {content: \"\";width: 100%;border-bottom: 1px solid gray;flex-grow: 1;}#sk-container-id-2 div.sk-label:hover label.sk-toggleable__label {background-color: #d4ebff;}#sk-container-id-2 div.sk-serial::before {content: \"\";position: absolute;border-left: 1px solid gray;box-sizing: border-box;top: 0;bottom: 0;left: 50%;z-index: 0;}#sk-container-id-2 div.sk-serial {display: flex;flex-direction: column;align-items: center;background-color: white;padding-right: 0.2em;padding-left: 0.2em;position: relative;}#sk-container-id-2 div.sk-item {position: relative;z-index: 1;}#sk-container-id-2 div.sk-parallel {display: flex;align-items: stretch;justify-content: center;background-color: white;position: relative;}#sk-container-id-2 div.sk-item::before, #sk-container-id-2 div.sk-parallel-item::before {content: \"\";position: absolute;border-left: 1px solid gray;box-sizing: border-box;top: 0;bottom: 0;left: 50%;z-index: -1;}#sk-container-id-2 div.sk-parallel-item {display: flex;flex-direction: column;z-index: 1;position: relative;background-color: white;}#sk-container-id-2 div.sk-parallel-item:first-child::after {align-self: flex-end;width: 50%;}#sk-container-id-2 div.sk-parallel-item:last-child::after {align-self: flex-start;width: 50%;}#sk-container-id-2 div.sk-parallel-item:only-child::after {width: 0;}#sk-container-id-2 div.sk-dashed-wrapped {border: 1px dashed gray;margin: 0 0.4em 0.5em 0.4em;box-sizing: border-box;padding-bottom: 0.4em;background-color: white;}#sk-container-id-2 div.sk-label label {font-family: monospace;font-weight: bold;display: inline-block;line-height: 1.2em;}#sk-container-id-2 div.sk-label-container {text-align: center;}#sk-container-id-2 div.sk-container {/* jupyter's `normalize.less` sets `[hidden] { display: none; }` but bootstrap.min.css set `[hidden] { display: none !important; }` so we also need the `!important` here to be able to override the default hidden behavior on the sphinx rendered scikit-learn.org. See: https://github.com/scikit-learn/scikit-learn/issues/21755 */display: inline-block !important;position: relative;}#sk-container-id-2 div.sk-text-repr-fallback {display: none;}</style><div id=\"sk-container-id-2\" class=\"sk-top-container\"><div class=\"sk-text-repr-fallback\"><pre>DecisionTreeClassifier(max_depth=3, min_samples_split=10)</pre><b>In a Jupyter environment, please rerun this cell to show the HTML representation or trust the notebook. <br />On GitHub, the HTML representation is unable to render, please try loading this page with nbviewer.org.</b></div><div class=\"sk-container\" hidden><div class=\"sk-item\"><div class=\"sk-estimator sk-toggleable\"><input class=\"sk-toggleable__control sk-hidden--visually\" id=\"sk-estimator-id-2\" type=\"checkbox\" checked><label for=\"sk-estimator-id-2\" class=\"sk-toggleable__label sk-toggleable__label-arrow\">DecisionTreeClassifier</label><div class=\"sk-toggleable__content\"><pre>DecisionTreeClassifier(max_depth=3, min_samples_split=10)</pre></div></div></div></div></div>"
      ],
      "text/plain": [
       "DecisionTreeClassifier(max_depth=3, min_samples_split=10)"
      ]
     },
     "execution_count": 77,
     "metadata": {},
     "output_type": "execute_result"
    }
   ],
   "source": [
    "DT_classifier = DecisionTreeClassifier( criterion= 'gini', max_depth= 3, min_samples_split= 10)\n",
    "DT_classifier.fit(X_train, y_train)"
   ]
  },
  {
   "cell_type": "code",
   "execution_count": 78,
   "metadata": {},
   "outputs": [],
   "source": [
    "y_pred = DT_classifier.predict(X_test)"
   ]
  },
  {
   "cell_type": "code",
   "execution_count": 79,
   "metadata": {
    "scrolled": true
   },
   "outputs": [
    {
     "data": {
      "text/plain": [
       "array(['Bad_deal', 'Nice_deal', 'Bad_deal', 'Bad_deal', 'Bad_deal',\n",
       "       'Bad_deal', 'Bad_deal', 'Bad_deal', 'Bad_deal', 'Bad_deal',\n",
       "       'Bad_deal', 'Bad_deal', 'Bad_deal', 'Bad_deal', 'Bad_deal',\n",
       "       'Bad_deal', 'Bad_deal', 'Bad_deal', 'Nice_deal', 'Bad_deal',\n",
       "       'Bad_deal', 'Bad_deal', 'Bad_deal', 'Bad_deal', 'Bad_deal',\n",
       "       'Bad_deal', 'Bad_deal', 'Bad_deal', 'Bad_deal', 'Bad_deal',\n",
       "       'Bad_deal', 'Bad_deal', 'Bad_deal', 'Bad_deal', 'Bad_deal',\n",
       "       'Bad_deal', 'Bad_deal', 'Bad_deal', 'Bad_deal', 'Bad_deal',\n",
       "       'Bad_deal', 'Bad_deal', 'Bad_deal', 'Bad_deal', 'Bad_deal',\n",
       "       'Bad_deal', 'Bad_deal', 'Bad_deal', 'Bad_deal', 'Bad_deal',\n",
       "       'Bad_deal', 'Bad_deal', 'Bad_deal', 'Bad_deal', 'Bad_deal',\n",
       "       'Bad_deal', 'Bad_deal', 'Bad_deal', 'Nice_deal', 'Bad_deal',\n",
       "       'Bad_deal', 'Bad_deal', 'Bad_deal', 'Bad_deal', 'Bad_deal',\n",
       "       'Bad_deal', 'Bad_deal', 'Nice_deal', 'Bad_deal', 'Bad_deal',\n",
       "       'Bad_deal', 'Bad_deal', 'Bad_deal', 'Bad_deal', 'Bad_deal',\n",
       "       'Bad_deal', 'Bad_deal', 'Bad_deal', 'Bad_deal', 'Bad_deal',\n",
       "       'Bad_deal', 'Bad_deal', 'Bad_deal', 'Bad_deal', 'Bad_deal',\n",
       "       'Bad_deal', 'Bad_deal', 'Bad_deal', 'Bad_deal', 'Bad_deal',\n",
       "       'Bad_deal', 'Bad_deal', 'Bad_deal', 'Bad_deal', 'Bad_deal',\n",
       "       'Bad_deal', 'Bad_deal', 'Bad_deal', 'Bad_deal', 'Bad_deal',\n",
       "       'Nice_deal', 'Bad_deal', 'Bad_deal', 'Bad_deal', 'Bad_deal',\n",
       "       'Bad_deal', 'Bad_deal', 'Nice_deal', 'Bad_deal', 'Bad_deal',\n",
       "       'Bad_deal', 'Bad_deal', 'Bad_deal', 'Bad_deal', 'Bad_deal',\n",
       "       'Bad_deal', 'Bad_deal', 'Bad_deal', 'Bad_deal', 'Bad_deal',\n",
       "       'Bad_deal', 'Bad_deal', 'Bad_deal', 'Bad_deal', 'Bad_deal',\n",
       "       'Bad_deal', 'Bad_deal', 'Bad_deal', 'Bad_deal', 'Bad_deal',\n",
       "       'Bad_deal', 'Bad_deal', 'Bad_deal', 'Nice_deal', 'Bad_deal',\n",
       "       'Bad_deal', 'Bad_deal', 'Bad_deal', 'Bad_deal', 'Bad_deal',\n",
       "       'Bad_deal', 'Bad_deal', 'Bad_deal', 'Bad_deal', 'Bad_deal',\n",
       "       'Bad_deal', 'Bad_deal', 'Bad_deal', 'Bad_deal', 'Nice_deal',\n",
       "       'Bad_deal', 'Bad_deal', 'Bad_deal', 'Bad_deal', 'Bad_deal',\n",
       "       'Bad_deal', 'Bad_deal', 'Bad_deal', 'Bad_deal', 'Bad_deal',\n",
       "       'Bad_deal', 'Bad_deal', 'Bad_deal', 'Bad_deal', 'Bad_deal',\n",
       "       'Bad_deal', 'Bad_deal', 'Bad_deal', 'Bad_deal', 'Nice_deal',\n",
       "       'Bad_deal', 'Bad_deal', 'Bad_deal', 'Bad_deal', 'Bad_deal',\n",
       "       'Bad_deal', 'Bad_deal', 'Nice_deal', 'Bad_deal', 'Bad_deal',\n",
       "       'Bad_deal', 'Bad_deal', 'Bad_deal', 'Bad_deal', 'Bad_deal',\n",
       "       'Bad_deal', 'Bad_deal', 'Bad_deal', 'Bad_deal', 'Bad_deal',\n",
       "       'Bad_deal', 'Bad_deal', 'Bad_deal', 'Bad_deal', 'Bad_deal',\n",
       "       'Bad_deal', 'Bad_deal', 'Bad_deal', 'Bad_deal', 'Bad_deal',\n",
       "       'Bad_deal', 'Bad_deal', 'Bad_deal', 'Bad_deal', 'Bad_deal',\n",
       "       'Bad_deal', 'Bad_deal', 'Bad_deal', 'Bad_deal', 'Bad_deal',\n",
       "       'Bad_deal', 'Nice_deal', 'Bad_deal', 'Bad_deal', 'Bad_deal',\n",
       "       'Bad_deal', 'Bad_deal', 'Bad_deal', 'Bad_deal', 'Bad_deal',\n",
       "       'Bad_deal', 'Bad_deal', 'Bad_deal', 'Bad_deal', 'Bad_deal',\n",
       "       'Bad_deal', 'Bad_deal', 'Bad_deal', 'Bad_deal', 'Bad_deal',\n",
       "       'Bad_deal', 'Bad_deal', 'Bad_deal', 'Bad_deal', 'Bad_deal',\n",
       "       'Bad_deal', 'Bad_deal', 'Bad_deal', 'Bad_deal', 'Bad_deal',\n",
       "       'Bad_deal', 'Bad_deal', 'Bad_deal', 'Bad_deal', 'Bad_deal',\n",
       "       'Bad_deal', 'Bad_deal', 'Bad_deal', 'Bad_deal', 'Bad_deal',\n",
       "       'Bad_deal', 'Bad_deal', 'Bad_deal', 'Bad_deal', 'Bad_deal',\n",
       "       'Bad_deal', 'Bad_deal', 'Bad_deal', 'Bad_deal', 'Bad_deal',\n",
       "       'Bad_deal', 'Bad_deal', 'Bad_deal', 'Bad_deal', 'Bad_deal',\n",
       "       'Bad_deal', 'Bad_deal', 'Bad_deal', 'Bad_deal', 'Bad_deal',\n",
       "       'Bad_deal', 'Bad_deal', 'Bad_deal', 'Bad_deal', 'Bad_deal',\n",
       "       'Bad_deal', 'Nice_deal', 'Bad_deal', 'Bad_deal', 'Bad_deal',\n",
       "       'Bad_deal', 'Bad_deal', 'Bad_deal', 'Bad_deal', 'Nice_deal',\n",
       "       'Bad_deal', 'Bad_deal', 'Bad_deal', 'Bad_deal', 'Bad_deal',\n",
       "       'Bad_deal', 'Bad_deal', 'Bad_deal', 'Bad_deal', 'Bad_deal',\n",
       "       'Bad_deal', 'Bad_deal', 'Bad_deal', 'Bad_deal', 'Bad_deal',\n",
       "       'Bad_deal', 'Bad_deal', 'Bad_deal', 'Bad_deal', 'Bad_deal',\n",
       "       'Bad_deal', 'Bad_deal', 'Bad_deal', 'Bad_deal', 'Bad_deal',\n",
       "       'Bad_deal', 'Bad_deal', 'Bad_deal', 'Bad_deal', 'Bad_deal',\n",
       "       'Bad_deal', 'Bad_deal', 'Bad_deal', 'Bad_deal', 'Nice_deal',\n",
       "       'Bad_deal', 'Bad_deal', 'Bad_deal', 'Bad_deal', 'Bad_deal',\n",
       "       'Bad_deal', 'Bad_deal', 'Bad_deal', 'Bad_deal', 'Bad_deal',\n",
       "       'Bad_deal', 'Bad_deal', 'Bad_deal', 'Nice_deal', 'Bad_deal',\n",
       "       'Bad_deal', 'Bad_deal', 'Bad_deal', 'Bad_deal', 'Bad_deal',\n",
       "       'Bad_deal', 'Bad_deal', 'Bad_deal', 'Bad_deal', 'Bad_deal',\n",
       "       'Bad_deal', 'Bad_deal', 'Bad_deal', 'Bad_deal', 'Bad_deal',\n",
       "       'Bad_deal', 'Bad_deal', 'Bad_deal', 'Bad_deal', 'Bad_deal',\n",
       "       'Bad_deal', 'Bad_deal', 'Bad_deal', 'Bad_deal', 'Bad_deal',\n",
       "       'Bad_deal', 'Nice_deal', 'Bad_deal', 'Bad_deal', 'Bad_deal',\n",
       "       'Bad_deal', 'Bad_deal', 'Bad_deal', 'Bad_deal', 'Bad_deal',\n",
       "       'Bad_deal', 'Bad_deal', 'Bad_deal', 'Bad_deal', 'Bad_deal',\n",
       "       'Bad_deal', 'Bad_deal', 'Bad_deal', 'Bad_deal', 'Bad_deal',\n",
       "       'Nice_deal', 'Bad_deal', 'Nice_deal', 'Bad_deal', 'Bad_deal',\n",
       "       'Bad_deal', 'Bad_deal', 'Bad_deal', 'Nice_deal', 'Bad_deal',\n",
       "       'Bad_deal', 'Bad_deal', 'Bad_deal', 'Bad_deal', 'Bad_deal',\n",
       "       'Bad_deal', 'Bad_deal', 'Bad_deal', 'Bad_deal', 'Bad_deal',\n",
       "       'Bad_deal', 'Bad_deal', 'Bad_deal', 'Bad_deal', 'Bad_deal',\n",
       "       'Bad_deal', 'Bad_deal', 'Bad_deal', 'Bad_deal', 'Bad_deal',\n",
       "       'Bad_deal', 'Bad_deal', 'Bad_deal', 'Bad_deal', 'Bad_deal',\n",
       "       'Bad_deal', 'Bad_deal', 'Bad_deal', 'Bad_deal', 'Bad_deal',\n",
       "       'Nice_deal', 'Bad_deal', 'Bad_deal', 'Bad_deal', 'Bad_deal',\n",
       "       'Bad_deal', 'Bad_deal', 'Bad_deal', 'Bad_deal', 'Bad_deal',\n",
       "       'Bad_deal', 'Bad_deal', 'Bad_deal', 'Bad_deal', 'Bad_deal',\n",
       "       'Bad_deal', 'Bad_deal', 'Bad_deal', 'Bad_deal', 'Bad_deal',\n",
       "       'Bad_deal', 'Bad_deal', 'Bad_deal', 'Bad_deal', 'Bad_deal',\n",
       "       'Bad_deal', 'Bad_deal', 'Bad_deal', 'Bad_deal', 'Bad_deal',\n",
       "       'Bad_deal', 'Bad_deal', 'Bad_deal', 'Bad_deal', 'Bad_deal',\n",
       "       'Bad_deal', 'Bad_deal', 'Bad_deal', 'Bad_deal', 'Bad_deal',\n",
       "       'Bad_deal', 'Bad_deal', 'Bad_deal', 'Bad_deal', 'Bad_deal',\n",
       "       'Bad_deal', 'Bad_deal'], dtype=object)"
      ]
     },
     "execution_count": 79,
     "metadata": {},
     "output_type": "execute_result"
    }
   ],
   "source": [
    "y_pred"
   ]
  },
  {
   "cell_type": "code",
   "execution_count": 80,
   "metadata": {},
   "outputs": [
    {
     "name": "stdout",
     "output_type": "stream",
     "text": [
      "Model Accuracy score with criterion gini index 0.9443\n"
     ]
    }
   ],
   "source": [
    "from sklearn.metrics import accuracy_score\n",
    "print(\"Model Accuracy score with criterion gini index {0:0.4f}\"\n",
    "      .format(accuracy_score(y_pred, y_test)))"
   ]
  },
  {
   "cell_type": "code",
   "execution_count": 81,
   "metadata": {},
   "outputs": [
    {
     "data": {
      "text/plain": [
       "array([[421,   0],\n",
       "       [ 26,  20]], dtype=int64)"
      ]
     },
     "execution_count": 81,
     "metadata": {},
     "output_type": "execute_result"
    }
   ],
   "source": [
    "confusion_matrix(y_test, y_pred)"
   ]
  },
  {
   "cell_type": "code",
   "execution_count": 82,
   "metadata": {},
   "outputs": [
    {
     "name": "stdout",
     "output_type": "stream",
     "text": [
      "              precision    recall  f1-score   support\n",
      "\n",
      "    Bad_deal       0.94      1.00      0.97       421\n",
      "   Nice_deal       1.00      0.43      0.61        46\n",
      "\n",
      "    accuracy                           0.94       467\n",
      "   macro avg       0.97      0.72      0.79       467\n",
      "weighted avg       0.95      0.94      0.93       467\n",
      "\n"
     ]
    }
   ],
   "source": [
    "print(metrics.classification_report(y_test,y_pred))"
   ]
  },
  {
   "cell_type": "code",
   "execution_count": 83,
   "metadata": {},
   "outputs": [
    {
     "data": {
      "text/plain": [
       "[Text(0.5, 0.875, 'X[0] <= 0.5\\ngini = 0.127\\nsamples = 1087\\nvalue = [1013, 74]'),\n",
       " Text(0.2, 0.625, 'X[1] <= 1.5\\ngini = 0.383\\nsamples = 174\\nvalue = [129, 45]'),\n",
       " Text(0.1, 0.375, 'gini = 0.0\\nsamples = 38\\nvalue = [0, 38]'),\n",
       " Text(0.3, 0.375, 'X[5] <= 1.5\\ngini = 0.098\\nsamples = 136\\nvalue = [129, 7]'),\n",
       " Text(0.2, 0.125, 'gini = 0.0\\nsamples = 89\\nvalue = [89, 0]'),\n",
       " Text(0.4, 0.125, 'gini = 0.254\\nsamples = 47\\nvalue = [40, 7]'),\n",
       " Text(0.8, 0.625, 'X[0] <= 1.5\\ngini = 0.062\\nsamples = 913\\nvalue = [884, 29]'),\n",
       " Text(0.7, 0.375, 'X[1] <= 0.5\\ngini = 0.173\\nsamples = 304\\nvalue = [275, 29]'),\n",
       " Text(0.6, 0.125, 'gini = 0.418\\nsamples = 74\\nvalue = [52, 22]'),\n",
       " Text(0.8, 0.125, 'gini = 0.059\\nsamples = 230\\nvalue = [223, 7]'),\n",
       " Text(0.9, 0.375, 'gini = 0.0\\nsamples = 609\\nvalue = [609, 0]')]"
      ]
     },
     "execution_count": 83,
     "metadata": {},
     "output_type": "execute_result"
    },
    {
     "data": {
      "image/png": "[encoded data removed]",
      "text/plain": [
       "<Figure size 720x576 with 1 Axes>"
      ]
     },
     "metadata": {
      "needs_background": "light"
     },
     "output_type": "display_data"
    }
   ],
   "source": [
    "plt.figure(figsize=(10, 8))\n",
    "from sklearn import tree\n",
    "tree.plot_tree(DT_classifier.fit(X_train, y_train))"
   ]
  },
  {
   "cell_type": "code",
   "execution_count": 84,
   "metadata": {},
   "outputs": [],
   "source": [
    "# condition = df['How_is_the_deal'] == \"Nice_deal\"\n",
    "# true_index = condition[condition == True].index\n",
    "# sub1 = df[condition].sample(n = 120)\n",
    "# condition = df['How_is_the_deal'] == \"Bad_deal\"\n",
    "# true_index = condition[condition == True].index\n",
    "# sub2 = df[condition].sample(n = 120)\n",
    "# data=pd.concat([sub1,sub2])\n",
    "# data.shape"
   ]
  },
  {
   "cell_type": "code",
   "execution_count": 85,
   "metadata": {},
   "outputs": [
    {
     "data": {
      "text/html": [
       "<div>\n",
       "<style scoped>\n",
       "    .dataframe tbody tr th:only-of-type {\n",
       "        vertical-align: middle;\n",
       "    }\n",
       "\n",
       "    .dataframe tbody tr th {\n",
       "        vertical-align: top;\n",
       "    }\n",
       "\n",
       "    .dataframe thead th {\n",
       "        text-align: right;\n",
       "    }\n",
       "</style>\n",
       "<table border=\"1\" class=\"dataframe\">\n",
       "  <thead>\n",
       "    <tr style=\"text-align: right;\">\n",
       "      <th></th>\n",
       "      <th>Deal_num</th>\n",
       "      <th>Buying_Cost</th>\n",
       "      <th>Maintainance_Cost</th>\n",
       "      <th>Number_of_doors</th>\n",
       "      <th>Number_of_Passenger</th>\n",
       "      <th>Luggage_Space</th>\n",
       "      <th>Safety_Features</th>\n",
       "    </tr>\n",
       "  </thead>\n",
       "  <tbody>\n",
       "    <tr>\n",
       "      <th>0</th>\n",
       "      <td>0</td>\n",
       "      <td>low</td>\n",
       "      <td>low</td>\n",
       "      <td>5more</td>\n",
       "      <td>more</td>\n",
       "      <td>big</td>\n",
       "      <td>high</td>\n",
       "    </tr>\n",
       "    <tr>\n",
       "      <th>1</th>\n",
       "      <td>1</td>\n",
       "      <td>low</td>\n",
       "      <td>low</td>\n",
       "      <td>2</td>\n",
       "      <td>2</td>\n",
       "      <td>small</td>\n",
       "      <td>high</td>\n",
       "    </tr>\n",
       "    <tr>\n",
       "      <th>2</th>\n",
       "      <td>2</td>\n",
       "      <td>low</td>\n",
       "      <td>med</td>\n",
       "      <td>5more</td>\n",
       "      <td>4</td>\n",
       "      <td>med</td>\n",
       "      <td>low</td>\n",
       "    </tr>\n",
       "    <tr>\n",
       "      <th>3</th>\n",
       "      <td>3</td>\n",
       "      <td>low</td>\n",
       "      <td>low</td>\n",
       "      <td>4</td>\n",
       "      <td>2</td>\n",
       "      <td>big</td>\n",
       "      <td>low</td>\n",
       "    </tr>\n",
       "    <tr>\n",
       "      <th>4</th>\n",
       "      <td>4</td>\n",
       "      <td>low</td>\n",
       "      <td>low</td>\n",
       "      <td>4</td>\n",
       "      <td>2</td>\n",
       "      <td>med</td>\n",
       "      <td>high</td>\n",
       "    </tr>\n",
       "    <tr>\n",
       "      <th>...</th>\n",
       "      <td>...</td>\n",
       "      <td>...</td>\n",
       "      <td>...</td>\n",
       "      <td>...</td>\n",
       "      <td>...</td>\n",
       "      <td>...</td>\n",
       "      <td>...</td>\n",
       "    </tr>\n",
       "    <tr>\n",
       "      <th>169</th>\n",
       "      <td>169</td>\n",
       "      <td>low</td>\n",
       "      <td>med</td>\n",
       "      <td>4</td>\n",
       "      <td>2</td>\n",
       "      <td>small</td>\n",
       "      <td>low</td>\n",
       "    </tr>\n",
       "    <tr>\n",
       "      <th>170</th>\n",
       "      <td>170</td>\n",
       "      <td>low</td>\n",
       "      <td>med</td>\n",
       "      <td>5more</td>\n",
       "      <td>2</td>\n",
       "      <td>small</td>\n",
       "      <td>med</td>\n",
       "    </tr>\n",
       "    <tr>\n",
       "      <th>171</th>\n",
       "      <td>171</td>\n",
       "      <td>low</td>\n",
       "      <td>med</td>\n",
       "      <td>5more</td>\n",
       "      <td>more</td>\n",
       "      <td>big</td>\n",
       "      <td>low</td>\n",
       "    </tr>\n",
       "    <tr>\n",
       "      <th>172</th>\n",
       "      <td>172</td>\n",
       "      <td>low</td>\n",
       "      <td>high</td>\n",
       "      <td>5more</td>\n",
       "      <td>4</td>\n",
       "      <td>small</td>\n",
       "      <td>low</td>\n",
       "    </tr>\n",
       "    <tr>\n",
       "      <th>173</th>\n",
       "      <td>173</td>\n",
       "      <td>low</td>\n",
       "      <td>med</td>\n",
       "      <td>5more</td>\n",
       "      <td>more</td>\n",
       "      <td>med</td>\n",
       "      <td>low</td>\n",
       "    </tr>\n",
       "  </tbody>\n",
       "</table>\n",
       "<p>174 rows × 7 columns</p>\n",
       "</div>"
      ],
      "text/plain": [
       "     Deal_num Buying_Cost Maintainance_Cost Number_of_doors  \\\n",
       "0           0         low               low           5more   \n",
       "1           1         low               low               2   \n",
       "2           2         low               med           5more   \n",
       "3           3         low               low               4   \n",
       "4           4         low               low               4   \n",
       "..        ...         ...               ...             ...   \n",
       "169       169         low               med               4   \n",
       "170       170         low               med           5more   \n",
       "171       171         low               med           5more   \n",
       "172       172         low              high           5more   \n",
       "173       173         low               med           5more   \n",
       "\n",
       "    Number_of_Passenger Luggage_Space Safety_Features  \n",
       "0                  more           big            high  \n",
       "1                     2         small            high  \n",
       "2                     4           med             low  \n",
       "3                     2           big             low  \n",
       "4                     2           med            high  \n",
       "..                  ...           ...             ...  \n",
       "169                   2         small             low  \n",
       "170                   2         small             med  \n",
       "171                more           big             low  \n",
       "172                   4         small             low  \n",
       "173                more           med             low  \n",
       "\n",
       "[174 rows x 7 columns]"
      ]
     },
     "execution_count": 85,
     "metadata": {},
     "output_type": "execute_result"
    }
   ],
   "source": [
    "testdf"
   ]
  },
  {
   "cell_type": "code",
   "execution_count": 86,
   "metadata": {},
   "outputs": [],
   "source": [
    "testdf=testdf.drop(['Deal_num'], axis=1)"
   ]
  },
  {
   "cell_type": "code",
   "execution_count": 87,
   "metadata": {},
   "outputs": [
    {
     "name": "stdout",
     "output_type": "stream",
     "text": [
      "<class 'pandas.core.frame.DataFrame'>\n",
      "RangeIndex: 174 entries, 0 to 173\n",
      "Data columns (total 6 columns):\n",
      " #   Column               Non-Null Count  Dtype \n",
      "---  ------               --------------  ----- \n",
      " 0   Buying_Cost          174 non-null    object\n",
      " 1   Maintainance_Cost    174 non-null    object\n",
      " 2   Number_of_doors      174 non-null    object\n",
      " 3   Number_of_Passenger  174 non-null    object\n",
      " 4   Luggage_Space        174 non-null    object\n",
      " 5   Safety_Features      174 non-null    object\n",
      "dtypes: object(6)\n",
      "memory usage: 8.3+ KB\n"
     ]
    }
   ],
   "source": [
    "testdf.info()"
   ]
  },
  {
   "cell_type": "code",
   "execution_count": 88,
   "metadata": {},
   "outputs": [
    {
     "data": {
      "text/html": [
       "<div>\n",
       "<style scoped>\n",
       "    .dataframe tbody tr th:only-of-type {\n",
       "        vertical-align: middle;\n",
       "    }\n",
       "\n",
       "    .dataframe tbody tr th {\n",
       "        vertical-align: top;\n",
       "    }\n",
       "\n",
       "    .dataframe thead th {\n",
       "        text-align: right;\n",
       "    }\n",
       "</style>\n",
       "<table border=\"1\" class=\"dataframe\">\n",
       "  <thead>\n",
       "    <tr style=\"text-align: right;\">\n",
       "      <th></th>\n",
       "      <th>Buying_Cost</th>\n",
       "      <th>Maintainance_Cost</th>\n",
       "      <th>Number_of_doors</th>\n",
       "      <th>Number_of_Passenger</th>\n",
       "      <th>Luggage_Space</th>\n",
       "      <th>Safety_Features</th>\n",
       "    </tr>\n",
       "  </thead>\n",
       "  <tbody>\n",
       "    <tr>\n",
       "      <th>0</th>\n",
       "      <td>low</td>\n",
       "      <td>low</td>\n",
       "      <td>5more</td>\n",
       "      <td>more</td>\n",
       "      <td>big</td>\n",
       "      <td>high</td>\n",
       "    </tr>\n",
       "    <tr>\n",
       "      <th>1</th>\n",
       "      <td>low</td>\n",
       "      <td>low</td>\n",
       "      <td>2</td>\n",
       "      <td>2</td>\n",
       "      <td>small</td>\n",
       "      <td>high</td>\n",
       "    </tr>\n",
       "    <tr>\n",
       "      <th>2</th>\n",
       "      <td>low</td>\n",
       "      <td>med</td>\n",
       "      <td>5more</td>\n",
       "      <td>4</td>\n",
       "      <td>med</td>\n",
       "      <td>low</td>\n",
       "    </tr>\n",
       "    <tr>\n",
       "      <th>3</th>\n",
       "      <td>low</td>\n",
       "      <td>low</td>\n",
       "      <td>4</td>\n",
       "      <td>2</td>\n",
       "      <td>big</td>\n",
       "      <td>low</td>\n",
       "    </tr>\n",
       "    <tr>\n",
       "      <th>4</th>\n",
       "      <td>low</td>\n",
       "      <td>low</td>\n",
       "      <td>4</td>\n",
       "      <td>2</td>\n",
       "      <td>med</td>\n",
       "      <td>high</td>\n",
       "    </tr>\n",
       "    <tr>\n",
       "      <th>...</th>\n",
       "      <td>...</td>\n",
       "      <td>...</td>\n",
       "      <td>...</td>\n",
       "      <td>...</td>\n",
       "      <td>...</td>\n",
       "      <td>...</td>\n",
       "    </tr>\n",
       "    <tr>\n",
       "      <th>169</th>\n",
       "      <td>low</td>\n",
       "      <td>med</td>\n",
       "      <td>4</td>\n",
       "      <td>2</td>\n",
       "      <td>small</td>\n",
       "      <td>low</td>\n",
       "    </tr>\n",
       "    <tr>\n",
       "      <th>170</th>\n",
       "      <td>low</td>\n",
       "      <td>med</td>\n",
       "      <td>5more</td>\n",
       "      <td>2</td>\n",
       "      <td>small</td>\n",
       "      <td>med</td>\n",
       "    </tr>\n",
       "    <tr>\n",
       "      <th>171</th>\n",
       "      <td>low</td>\n",
       "      <td>med</td>\n",
       "      <td>5more</td>\n",
       "      <td>more</td>\n",
       "      <td>big</td>\n",
       "      <td>low</td>\n",
       "    </tr>\n",
       "    <tr>\n",
       "      <th>172</th>\n",
       "      <td>low</td>\n",
       "      <td>high</td>\n",
       "      <td>5more</td>\n",
       "      <td>4</td>\n",
       "      <td>small</td>\n",
       "      <td>low</td>\n",
       "    </tr>\n",
       "    <tr>\n",
       "      <th>173</th>\n",
       "      <td>low</td>\n",
       "      <td>med</td>\n",
       "      <td>5more</td>\n",
       "      <td>more</td>\n",
       "      <td>med</td>\n",
       "      <td>low</td>\n",
       "    </tr>\n",
       "  </tbody>\n",
       "</table>\n",
       "<p>174 rows × 6 columns</p>\n",
       "</div>"
      ],
      "text/plain": [
       "    Buying_Cost Maintainance_Cost Number_of_doors Number_of_Passenger  \\\n",
       "0           low               low           5more                more   \n",
       "1           low               low               2                   2   \n",
       "2           low               med           5more                   4   \n",
       "3           low               low               4                   2   \n",
       "4           low               low               4                   2   \n",
       "..          ...               ...             ...                 ...   \n",
       "169         low               med               4                   2   \n",
       "170         low               med           5more                   2   \n",
       "171         low               med           5more                more   \n",
       "172         low              high           5more                   4   \n",
       "173         low               med           5more                more   \n",
       "\n",
       "    Luggage_Space Safety_Features  \n",
       "0             big            high  \n",
       "1           small            high  \n",
       "2             med             low  \n",
       "3             big             low  \n",
       "4             med            high  \n",
       "..            ...             ...  \n",
       "169         small             low  \n",
       "170         small             med  \n",
       "171           big             low  \n",
       "172         small             low  \n",
       "173           med             low  \n",
       "\n",
       "[174 rows x 6 columns]"
      ]
     },
     "execution_count": 88,
     "metadata": {},
     "output_type": "execute_result"
    }
   ],
   "source": [
    "testord_df=testdf.copy()\n",
    "testord_df"
   ]
  },
  {
   "cell_type": "code",
   "execution_count": 89,
   "metadata": {},
   "outputs": [
    {
     "name": "stdout",
     "output_type": "stream",
     "text": [
      "['low']\n",
      "['low' 'med' 'high']\n",
      "['5more' '2' '4' '3']\n",
      "['more' '2' '4']\n",
      "['big' 'small' 'med']\n",
      "['high' 'low' 'med']\n"
     ]
    }
   ],
   "source": [
    "print(testdf[\"Buying_Cost\"].unique())\n",
    "print(testdf[\"Maintainance_Cost\"].unique())\n",
    "print(testdf[\"Number_of_doors\"].unique())\n",
    "print(testdf[\"Number_of_Passenger\"].unique())\n",
    "print(testdf[\"Luggage_Space\"].unique())\n",
    "print(testdf[\"Safety_Features\"].unique())"
   ]
  },
  {
   "cell_type": "code",
   "execution_count": 90,
   "metadata": {},
   "outputs": [
    {
     "data": {
      "text/html": [
       "<div>\n",
       "<style scoped>\n",
       "    .dataframe tbody tr th:only-of-type {\n",
       "        vertical-align: middle;\n",
       "    }\n",
       "\n",
       "    .dataframe tbody tr th {\n",
       "        vertical-align: top;\n",
       "    }\n",
       "\n",
       "    .dataframe thead th {\n",
       "        text-align: right;\n",
       "    }\n",
       "</style>\n",
       "<table border=\"1\" class=\"dataframe\">\n",
       "  <thead>\n",
       "    <tr style=\"text-align: right;\">\n",
       "      <th></th>\n",
       "      <th>0</th>\n",
       "      <th>1</th>\n",
       "      <th>2</th>\n",
       "      <th>3</th>\n",
       "      <th>4</th>\n",
       "      <th>5</th>\n",
       "    </tr>\n",
       "  </thead>\n",
       "  <tbody>\n",
       "    <tr>\n",
       "      <th>0</th>\n",
       "      <td>0.0</td>\n",
       "      <td>0.0</td>\n",
       "      <td>3.0</td>\n",
       "      <td>2.0</td>\n",
       "      <td>2.0</td>\n",
       "      <td>2.0</td>\n",
       "    </tr>\n",
       "    <tr>\n",
       "      <th>1</th>\n",
       "      <td>0.0</td>\n",
       "      <td>0.0</td>\n",
       "      <td>0.0</td>\n",
       "      <td>0.0</td>\n",
       "      <td>0.0</td>\n",
       "      <td>2.0</td>\n",
       "    </tr>\n",
       "    <tr>\n",
       "      <th>2</th>\n",
       "      <td>0.0</td>\n",
       "      <td>1.0</td>\n",
       "      <td>3.0</td>\n",
       "      <td>1.0</td>\n",
       "      <td>1.0</td>\n",
       "      <td>0.0</td>\n",
       "    </tr>\n",
       "    <tr>\n",
       "      <th>3</th>\n",
       "      <td>0.0</td>\n",
       "      <td>0.0</td>\n",
       "      <td>2.0</td>\n",
       "      <td>0.0</td>\n",
       "      <td>2.0</td>\n",
       "      <td>0.0</td>\n",
       "    </tr>\n",
       "    <tr>\n",
       "      <th>4</th>\n",
       "      <td>0.0</td>\n",
       "      <td>0.0</td>\n",
       "      <td>2.0</td>\n",
       "      <td>0.0</td>\n",
       "      <td>1.0</td>\n",
       "      <td>2.0</td>\n",
       "    </tr>\n",
       "    <tr>\n",
       "      <th>...</th>\n",
       "      <td>...</td>\n",
       "      <td>...</td>\n",
       "      <td>...</td>\n",
       "      <td>...</td>\n",
       "      <td>...</td>\n",
       "      <td>...</td>\n",
       "    </tr>\n",
       "    <tr>\n",
       "      <th>169</th>\n",
       "      <td>0.0</td>\n",
       "      <td>1.0</td>\n",
       "      <td>2.0</td>\n",
       "      <td>0.0</td>\n",
       "      <td>0.0</td>\n",
       "      <td>0.0</td>\n",
       "    </tr>\n",
       "    <tr>\n",
       "      <th>170</th>\n",
       "      <td>0.0</td>\n",
       "      <td>1.0</td>\n",
       "      <td>3.0</td>\n",
       "      <td>0.0</td>\n",
       "      <td>0.0</td>\n",
       "      <td>1.0</td>\n",
       "    </tr>\n",
       "    <tr>\n",
       "      <th>171</th>\n",
       "      <td>0.0</td>\n",
       "      <td>1.0</td>\n",
       "      <td>3.0</td>\n",
       "      <td>2.0</td>\n",
       "      <td>2.0</td>\n",
       "      <td>0.0</td>\n",
       "    </tr>\n",
       "    <tr>\n",
       "      <th>172</th>\n",
       "      <td>0.0</td>\n",
       "      <td>2.0</td>\n",
       "      <td>3.0</td>\n",
       "      <td>1.0</td>\n",
       "      <td>0.0</td>\n",
       "      <td>0.0</td>\n",
       "    </tr>\n",
       "    <tr>\n",
       "      <th>173</th>\n",
       "      <td>0.0</td>\n",
       "      <td>1.0</td>\n",
       "      <td>3.0</td>\n",
       "      <td>2.0</td>\n",
       "      <td>1.0</td>\n",
       "      <td>0.0</td>\n",
       "    </tr>\n",
       "  </tbody>\n",
       "</table>\n",
       "<p>174 rows × 6 columns</p>\n",
       "</div>"
      ],
      "text/plain": [
       "       0    1    2    3    4    5\n",
       "0    0.0  0.0  3.0  2.0  2.0  2.0\n",
       "1    0.0  0.0  0.0  0.0  0.0  2.0\n",
       "2    0.0  1.0  3.0  1.0  1.0  0.0\n",
       "3    0.0  0.0  2.0  0.0  2.0  0.0\n",
       "4    0.0  0.0  2.0  0.0  1.0  2.0\n",
       "..   ...  ...  ...  ...  ...  ...\n",
       "169  0.0  1.0  2.0  0.0  0.0  0.0\n",
       "170  0.0  1.0  3.0  0.0  0.0  1.0\n",
       "171  0.0  1.0  3.0  2.0  2.0  0.0\n",
       "172  0.0  2.0  3.0  1.0  0.0  0.0\n",
       "173  0.0  1.0  3.0  2.0  1.0  0.0\n",
       "\n",
       "[174 rows x 6 columns]"
      ]
     },
     "execution_count": 90,
     "metadata": {},
     "output_type": "execute_result"
    }
   ],
   "source": [
    "ordinal_test=testdf.copy()\n",
    "Buy=['low'] #increasing order of importance\n",
    "Maintainance=['low','med','high']\n",
    "doors=['2','3','4','5more']\n",
    "Passenger=['2','4','more']\n",
    "Luggage=['small','med','big']\n",
    "Safety=['low','med','high']\n",
    "ordi = OrdinalEncoder(categories=[Buy,Maintainance,doors,Passenger,Luggage,Safety])\n",
    "ordinal_test[[\"Buying_Cost\",\"Maintainance_Cost\",\"Number_of_doors\",\"Number_of_Passenger\",\"Luggage_Space\",\"Safety_Features\"]]=ordi.fit_transform(ordinal_test[[\"Buying_Cost\",\"Maintainance_Cost\",\"Number_of_doors\",\"Number_of_Passenger\",\"Luggage_Space\",\"Safety_Features\"]])\n",
    "pd.DataFrame(ordi.fit_transform(testdf[[\"Buying_Cost\",\"Maintainance_Cost\",\"Number_of_doors\",\"Number_of_Passenger\",\"Luggage_Space\",\"Safety_Features\"]]))"
   ]
  },
  {
   "cell_type": "code",
   "execution_count": 91,
   "metadata": {},
   "outputs": [
    {
     "name": "stdout",
     "output_type": "stream",
     "text": [
      "<class 'pandas.core.frame.DataFrame'>\n",
      "RangeIndex: 174 entries, 0 to 173\n",
      "Data columns (total 6 columns):\n",
      " #   Column               Non-Null Count  Dtype  \n",
      "---  ------               --------------  -----  \n",
      " 0   Buying_Cost          174 non-null    float64\n",
      " 1   Maintainance_Cost    174 non-null    float64\n",
      " 2   Number_of_doors      174 non-null    float64\n",
      " 3   Number_of_Passenger  174 non-null    float64\n",
      " 4   Luggage_Space        174 non-null    float64\n",
      " 5   Safety_Features      174 non-null    float64\n",
      "dtypes: float64(6)\n",
      "memory usage: 8.3 KB\n"
     ]
    }
   ],
   "source": [
    "ordinal_test.info()"
   ]
  },
  {
   "cell_type": "code",
   "execution_count": 92,
   "metadata": {},
   "outputs": [],
   "source": [
    "y_pred = DT_classifier.predict(ordinal_test)"
   ]
  },
  {
   "cell_type": "code",
   "execution_count": 93,
   "metadata": {},
   "outputs": [
    {
     "data": {
      "text/plain": [
       "array(['Nice_deal', 'Nice_deal', 'Nice_deal', 'Nice_deal', 'Nice_deal',\n",
       "       'Nice_deal', 'Nice_deal', 'Nice_deal', 'Nice_deal', 'Nice_deal',\n",
       "       'Nice_deal', 'Nice_deal', 'Nice_deal', 'Nice_deal', 'Nice_deal',\n",
       "       'Nice_deal', 'Nice_deal', 'Nice_deal', 'Nice_deal', 'Nice_deal',\n",
       "       'Nice_deal', 'Bad_deal', 'Nice_deal', 'Bad_deal', 'Nice_deal',\n",
       "       'Bad_deal', 'Nice_deal', 'Nice_deal', 'Nice_deal', 'Nice_deal',\n",
       "       'Nice_deal', 'Nice_deal', 'Nice_deal', 'Nice_deal', 'Nice_deal',\n",
       "       'Nice_deal', 'Nice_deal', 'Nice_deal', 'Nice_deal', 'Bad_deal',\n",
       "       'Nice_deal', 'Nice_deal', 'Nice_deal', 'Nice_deal', 'Nice_deal',\n",
       "       'Nice_deal', 'Nice_deal', 'Nice_deal', 'Nice_deal', 'Nice_deal',\n",
       "       'Nice_deal', 'Nice_deal', 'Nice_deal', 'Nice_deal', 'Nice_deal',\n",
       "       'Nice_deal', 'Nice_deal', 'Bad_deal', 'Bad_deal', 'Nice_deal',\n",
       "       'Nice_deal', 'Nice_deal', 'Nice_deal', 'Nice_deal', 'Nice_deal',\n",
       "       'Nice_deal', 'Nice_deal', 'Nice_deal', 'Nice_deal', 'Nice_deal',\n",
       "       'Nice_deal', 'Nice_deal', 'Bad_deal', 'Nice_deal', 'Nice_deal',\n",
       "       'Nice_deal', 'Nice_deal', 'Nice_deal', 'Nice_deal', 'Nice_deal',\n",
       "       'Nice_deal', 'Nice_deal', 'Nice_deal', 'Nice_deal', 'Nice_deal',\n",
       "       'Nice_deal', 'Nice_deal', 'Bad_deal', 'Bad_deal', 'Bad_deal',\n",
       "       'Nice_deal', 'Nice_deal', 'Nice_deal', 'Nice_deal', 'Nice_deal',\n",
       "       'Nice_deal', 'Nice_deal', 'Nice_deal', 'Nice_deal', 'Nice_deal',\n",
       "       'Nice_deal', 'Nice_deal', 'Nice_deal', 'Nice_deal', 'Nice_deal',\n",
       "       'Bad_deal', 'Nice_deal', 'Nice_deal', 'Nice_deal', 'Nice_deal',\n",
       "       'Nice_deal', 'Nice_deal', 'Nice_deal', 'Nice_deal', 'Nice_deal',\n",
       "       'Nice_deal', 'Nice_deal', 'Nice_deal', 'Nice_deal', 'Nice_deal',\n",
       "       'Nice_deal', 'Bad_deal', 'Nice_deal', 'Nice_deal', 'Bad_deal',\n",
       "       'Nice_deal', 'Nice_deal', 'Nice_deal', 'Nice_deal', 'Nice_deal',\n",
       "       'Nice_deal', 'Nice_deal', 'Nice_deal', 'Nice_deal', 'Nice_deal',\n",
       "       'Nice_deal', 'Nice_deal', 'Nice_deal', 'Bad_deal', 'Nice_deal',\n",
       "       'Nice_deal', 'Nice_deal', 'Nice_deal', 'Nice_deal', 'Nice_deal',\n",
       "       'Nice_deal', 'Nice_deal', 'Nice_deal', 'Nice_deal', 'Nice_deal',\n",
       "       'Nice_deal', 'Nice_deal', 'Nice_deal', 'Nice_deal', 'Nice_deal',\n",
       "       'Bad_deal', 'Nice_deal', 'Nice_deal', 'Nice_deal', 'Nice_deal',\n",
       "       'Nice_deal', 'Nice_deal', 'Nice_deal', 'Nice_deal', 'Nice_deal',\n",
       "       'Nice_deal', 'Nice_deal', 'Nice_deal', 'Nice_deal', 'Nice_deal',\n",
       "       'Nice_deal', 'Nice_deal', 'Bad_deal', 'Nice_deal'], dtype=object)"
      ]
     },
     "execution_count": 93,
     "metadata": {},
     "output_type": "execute_result"
    }
   ],
   "source": [
    "y_pred"
   ]
  },
  {
   "cell_type": "code",
   "execution_count": 94,
   "metadata": {},
   "outputs": [
    {
     "name": "stdout",
     "output_type": "stream",
     "text": [
      "score 0.9668813247470102\n"
     ]
    }
   ],
   "source": [
    "print('score',DT_classifier.score(X_train,y_train))"
   ]
  },
  {
   "cell_type": "code",
   "execution_count": null,
   "metadata": {},
   "outputs": [],
   "source": []
  }
 ],
 "metadata": {
  "kernelspec": {
   "display_name": "Python 3",
   "language": "python",
   "name": "python3"
  },
  "language_info": {
   "codemirror_mode": {
    "name": "ipython",
    "version": 3
   },
   "file_extension": ".py",
   "mimetype": "text/x-python",
   "name": "python",
   "nbconvert_exporter": "python",
   "pygments_lexer": "ipython3",
   "version": "3.8.5"
  }
 },
 "nbformat": 4,
 "nbformat_minor": 4
}
